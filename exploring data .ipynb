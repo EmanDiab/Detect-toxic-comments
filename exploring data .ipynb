{
 "cells": [
  {
   "cell_type": "code",
   "execution_count": 43,
   "metadata": {},
   "outputs": [],
   "source": [
    "import pandas as pd\n",
    "import numpy as np\n"
   ]
  },
  {
   "cell_type": "code",
   "execution_count": 44,
   "metadata": {},
   "outputs": [],
   "source": [
    "data = pd.read_csv(\"train.csv\")"
   ]
  },
  {
   "cell_type": "code",
   "execution_count": 45,
   "metadata": {},
   "outputs": [
    {
     "data": {
      "text/html": [
       "<div>\n",
       "<style scoped>\n",
       "    .dataframe tbody tr th:only-of-type {\n",
       "        vertical-align: middle;\n",
       "    }\n",
       "\n",
       "    .dataframe tbody tr th {\n",
       "        vertical-align: top;\n",
       "    }\n",
       "\n",
       "    .dataframe thead th {\n",
       "        text-align: right;\n",
       "    }\n",
       "</style>\n",
       "<table border=\"1\" class=\"dataframe\">\n",
       "  <thead>\n",
       "    <tr style=\"text-align: right;\">\n",
       "      <th></th>\n",
       "      <th>id</th>\n",
       "      <th>comment_text</th>\n",
       "      <th>toxic</th>\n",
       "      <th>severe_toxic</th>\n",
       "      <th>obscene</th>\n",
       "      <th>threat</th>\n",
       "      <th>insult</th>\n",
       "      <th>identity_hate</th>\n",
       "    </tr>\n",
       "  </thead>\n",
       "  <tbody>\n",
       "    <tr>\n",
       "      <th>42</th>\n",
       "      <td>001810bf8c45bf5f</td>\n",
       "      <td>You are gay or antisemmitian? \\n\\nArchangel WH...</td>\n",
       "      <td>1</td>\n",
       "      <td>0</td>\n",
       "      <td>1</td>\n",
       "      <td>0</td>\n",
       "      <td>1</td>\n",
       "      <td>1</td>\n",
       "    </tr>\n",
       "    <tr>\n",
       "      <th>105</th>\n",
       "      <td>00472b8e2d38d1ea</td>\n",
       "      <td>A pair of jew-hating weiner nazi schmucks.</td>\n",
       "      <td>1</td>\n",
       "      <td>0</td>\n",
       "      <td>1</td>\n",
       "      <td>0</td>\n",
       "      <td>1</td>\n",
       "      <td>1</td>\n",
       "    </tr>\n",
       "    <tr>\n",
       "      <th>176</th>\n",
       "      <td>006b94add72ed61c</td>\n",
       "      <td>I think that your a Fagget get a oife and burn...</td>\n",
       "      <td>1</td>\n",
       "      <td>0</td>\n",
       "      <td>1</td>\n",
       "      <td>1</td>\n",
       "      <td>1</td>\n",
       "      <td>1</td>\n",
       "    </tr>\n",
       "    <tr>\n",
       "      <th>218</th>\n",
       "      <td>008e0818dde894fb</td>\n",
       "      <td>Kill all niggers. \\n\\nI have hard, that others...</td>\n",
       "      <td>1</td>\n",
       "      <td>0</td>\n",
       "      <td>1</td>\n",
       "      <td>0</td>\n",
       "      <td>1</td>\n",
       "      <td>1</td>\n",
       "    </tr>\n",
       "    <tr>\n",
       "      <th>238</th>\n",
       "      <td>0097dd5c29bf7a15</td>\n",
       "      <td>u r a tw@ fuck off u gay boy.U r smelly.Fuck u...</td>\n",
       "      <td>1</td>\n",
       "      <td>0</td>\n",
       "      <td>1</td>\n",
       "      <td>0</td>\n",
       "      <td>1</td>\n",
       "      <td>1</td>\n",
       "    </tr>\n",
       "    <tr>\n",
       "      <th>...</th>\n",
       "      <td>...</td>\n",
       "      <td>...</td>\n",
       "      <td>...</td>\n",
       "      <td>...</td>\n",
       "      <td>...</td>\n",
       "      <td>...</td>\n",
       "      <td>...</td>\n",
       "      <td>...</td>\n",
       "    </tr>\n",
       "    <tr>\n",
       "      <th>159281</th>\n",
       "      <td>fb726deec64157bd</td>\n",
       "      <td>LoL!! \\n\\nyou're GAY!! you will never know how...</td>\n",
       "      <td>1</td>\n",
       "      <td>1</td>\n",
       "      <td>1</td>\n",
       "      <td>0</td>\n",
       "      <td>1</td>\n",
       "      <td>1</td>\n",
       "    </tr>\n",
       "    <tr>\n",
       "      <th>159336</th>\n",
       "      <td>fc3efa2f6f025f6d</td>\n",
       "      <td>Oh, fuck off. The pansy Jew would just whine a...</td>\n",
       "      <td>1</td>\n",
       "      <td>0</td>\n",
       "      <td>1</td>\n",
       "      <td>0</td>\n",
       "      <td>1</td>\n",
       "      <td>1</td>\n",
       "    </tr>\n",
       "    <tr>\n",
       "      <th>159400</th>\n",
       "      <td>fd052883fa6a8697</td>\n",
       "      <td>Shalom \\n\\nSemite, get the fuck out of here. I...</td>\n",
       "      <td>1</td>\n",
       "      <td>1</td>\n",
       "      <td>1</td>\n",
       "      <td>1</td>\n",
       "      <td>1</td>\n",
       "      <td>1</td>\n",
       "    </tr>\n",
       "    <tr>\n",
       "      <th>159449</th>\n",
       "      <td>fdce660ddcd6d7ca</td>\n",
       "      <td>I think he is a gay fag!!!</td>\n",
       "      <td>1</td>\n",
       "      <td>0</td>\n",
       "      <td>0</td>\n",
       "      <td>0</td>\n",
       "      <td>0</td>\n",
       "      <td>1</td>\n",
       "    </tr>\n",
       "    <tr>\n",
       "      <th>159494</th>\n",
       "      <td>fef4cf7ba0012866</td>\n",
       "      <td>\"\\n\\n our previous conversation \\n\\nyou fuckin...</td>\n",
       "      <td>1</td>\n",
       "      <td>0</td>\n",
       "      <td>1</td>\n",
       "      <td>0</td>\n",
       "      <td>1</td>\n",
       "      <td>1</td>\n",
       "    </tr>\n",
       "  </tbody>\n",
       "</table>\n",
       "<p>1405 rows × 8 columns</p>\n",
       "</div>"
      ],
      "text/plain": [
       "                      id                                       comment_text  \\\n",
       "42      001810bf8c45bf5f  You are gay or antisemmitian? \\n\\nArchangel WH...   \n",
       "105     00472b8e2d38d1ea         A pair of jew-hating weiner nazi schmucks.   \n",
       "176     006b94add72ed61c  I think that your a Fagget get a oife and burn...   \n",
       "218     008e0818dde894fb  Kill all niggers. \\n\\nI have hard, that others...   \n",
       "238     0097dd5c29bf7a15  u r a tw@ fuck off u gay boy.U r smelly.Fuck u...   \n",
       "...                  ...                                                ...   \n",
       "159281  fb726deec64157bd  LoL!! \\n\\nyou're GAY!! you will never know how...   \n",
       "159336  fc3efa2f6f025f6d  Oh, fuck off. The pansy Jew would just whine a...   \n",
       "159400  fd052883fa6a8697  Shalom \\n\\nSemite, get the fuck out of here. I...   \n",
       "159449  fdce660ddcd6d7ca                         I think he is a gay fag!!!   \n",
       "159494  fef4cf7ba0012866  \"\\n\\n our previous conversation \\n\\nyou fuckin...   \n",
       "\n",
       "        toxic  severe_toxic  obscene  threat  insult  identity_hate  \n",
       "42          1             0        1       0       1              1  \n",
       "105         1             0        1       0       1              1  \n",
       "176         1             0        1       1       1              1  \n",
       "218         1             0        1       0       1              1  \n",
       "238         1             0        1       0       1              1  \n",
       "...       ...           ...      ...     ...     ...            ...  \n",
       "159281      1             1        1       0       1              1  \n",
       "159336      1             0        1       0       1              1  \n",
       "159400      1             1        1       1       1              1  \n",
       "159449      1             0        0       0       0              1  \n",
       "159494      1             0        1       0       1              1  \n",
       "\n",
       "[1405 rows x 8 columns]"
      ]
     },
     "execution_count": 45,
     "metadata": {},
     "output_type": "execute_result"
    }
   ],
   "source": [
    "data[data['identity_hate']== 1]"
   ]
  },
  {
   "cell_type": "markdown",
   "metadata": {},
   "source": [
    "# # making sure that data is not replicated"
   ]
  },
  {
   "cell_type": "code",
   "execution_count": 46,
   "metadata": {},
   "outputs": [
    {
     "data": {
      "text/plain": [
       "159571"
      ]
     },
     "execution_count": 46,
     "metadata": {},
     "output_type": "execute_result"
    }
   ],
   "source": [
    "len(data['id'].unique())"
   ]
  },
  {
   "cell_type": "markdown",
   "metadata": {},
   "source": [
    "# Preprocessing"
   ]
  },
  {
   "cell_type": "markdown",
   "metadata": {},
   "source": [
    "# 1- Lowering"
   ]
  },
  {
   "cell_type": "code",
   "execution_count": 47,
   "metadata": {},
   "outputs": [
    {
     "data": {
      "text/plain": [
       "\"\\ufeffSensual Pleasures of the MindItalic text\\n\\nThere are endless creative ways to provoke and capture sensual feelings. Money can’t buy it, you can’t see it or hold it, outer\\npackaging offers no competition for it and no grandiose flash of materialistic presence can incite it. Sensuality in it’s truest sense can only be felt within.  It is provoked by and through the power and brilliance of the mind. It is born there and lives there.\\n\\nSince it is a feeling rather than a physical event, it is more difficult to achieve and maintain than might be found with other less deeply rooted sexual experiences.  Knowledge, intuition and creativity are the tools necessary to discover where it lives and how to awaken it, what it takes to stimulate it and how to nurture it so it will grow. A conscientious partner can create a need and cravings simply by using the power of the mind.    \\n\\nAll of this offers new meaning to the old adage about the mind being a terrible thing to waste. There are hot spots in the psyche that can be triggered by suggestion and connection. (Emotional Buttons)  Pushing those buttons engenders our partner's sensory and sexual experience. We do this by using one type of energy to spark another and by channeling emotional reactions into sexuality. Where the adventure leads is limited only by the knowledge, intuition and creativity an individual possesses. Nothing is written in stone and there is no list of how to’s.  It’s freelance flight.\\n\\nKnowledge is power! Getting to know your partner and what makes her/him tick and tingle is the first step. The ability to\\nunearth these secret treasures comes from paying close attention to things you say or do that result in an action or reaction\\nindicating you have your finger on a button (hot spot). Finding all of those buttons, exploring the endless possibilities and\\ndiscovering the wondrous places they lead, takes patience and thought, but the rewards are immeasurable.\\n\\nHaving well honed intuition is a valuable asset. Liken it, if you will, to a good quarter back with a natural talent for reading the defense. If you ‘know’ what your partner needs, wants and desires without her/him having to explain it all, then you hold a powerful advantage. Possessing a good base knowledge of the opposite sex, in general, offers a continual win, win proposition\\n\\nBeing gifted with a creative imagination or obtaining skills in this arena will offer many positives for a lasting and pleasurable sex life. Desires and cravings are born in the mind and live there so it would make sense to use the power of the mind to it fullest to gain the greatest results. Spice and adventure are two major factors in all sexual experiences. If they are not on the top of your list of priorities then they should be. Avoiding boredom is key in creating cravings for more. If it wasn't good the first time, why would anyone want to repeat it?  Taking your partner to a place where she/he has never been before and making each experience a lasting memory should be primary goals. That is the stuff heroes are made of.\\n\\nSexual stimulation can be achieved and sustained through physical manipulation, sexual pleasures, or through mind play and manipulation A physical presence, a verbal exchange, a mere mental/emotional connection or any combination of all of the above can create an ‘altered mental state’, a place of arousal and euphoria.\\n\\nSensual/erotic tasks and journals are great avenues to maintain altered states. Rituals and sensual tasks , while away from your\\npartner can help keep the buttons pushed, the bond strong, keep the connection flowing and offer sexual stimulation on an\\nongoing basis. Keeping your partner in an ‘altered state’ often and for as long as possible will help in creating cravings and lead to a path ultimate sexual pleasure.\\n\\nAltered states....\\n1-Sexuality.....intensely 'turned on' riding a sexual high ...erotica.....consumed by passion\\n2-Endorphin high...... an altered state resulting from physical or intense mental stimulation.\\n3-Euphoria.....totally absorbed in your partner and the sensations and feelings being created.\\n5-Head space......spellbound/entranced..lost in the release of control..total freedom and flight..to be absorbed in the trust and acceptance..a peaceful place\\n6-Nirvana......meditative state.....heightened consciousness with loss of awareness.....having a sense of self through 'losing oneself'......total freedom through total loss of control.\\n\\nAll sexual experiences need to be consensual and remain safe.\""
      ]
     },
     "execution_count": 47,
     "metadata": {},
     "output_type": "execute_result"
    }
   ],
   "source": [
    "data['comment_text'].max()"
   ]
  },
  {
   "cell_type": "code",
   "execution_count": null,
   "metadata": {},
   "outputs": [],
   "source": []
  },
  {
   "cell_type": "code",
   "execution_count": 48,
   "metadata": {},
   "outputs": [],
   "source": [
    "data['comment_text'] = data['comment_text'].str.lower()"
   ]
  },
  {
   "cell_type": "markdown",
   "metadata": {},
   "source": [
    "# 2-  Removing numbers"
   ]
  },
  {
   "cell_type": "code",
   "execution_count": 49,
   "metadata": {},
   "outputs": [],
   "source": [
    "data['comment_text'] = data['comment_text'].str.replace(r'\\d+','')"
   ]
  },
  {
   "cell_type": "code",
   "execution_count": 50,
   "metadata": {},
   "outputs": [
    {
     "data": {
      "text/plain": [
       "0         explanation\\nwhy the edits made under my usern...\n",
       "1         d'aww! he matches this background colour i'm s...\n",
       "2         hey man, i'm really not trying to edit war. it...\n",
       "3         \"\\nmore\\ni can't make any real suggestions on ...\n",
       "4         you, sir, are my hero. any chance you remember...\n",
       "                                ...                        \n",
       "159566    \":::::and for the second time of asking, when ...\n",
       "159567    you should be ashamed of yourself \\n\\nthat is ...\n",
       "159568    spitzer \\n\\numm, theres no actual article for ...\n",
       "159569    and it looks like it was actually you who put ...\n",
       "159570    \"\\nand ... i really don't think you understand...\n",
       "Name: comment_text, Length: 159571, dtype: object"
      ]
     },
     "execution_count": 50,
     "metadata": {},
     "output_type": "execute_result"
    }
   ],
   "source": [
    "data['comment_text']"
   ]
  },
  {
   "cell_type": "markdown",
   "metadata": {},
   "source": [
    "# 3 -  Remove punctuation\n"
   ]
  },
  {
   "cell_type": "code",
   "execution_count": 51,
   "metadata": {},
   "outputs": [],
   "source": [
    "import string\n",
    "def remove_punctuations(text):\n",
    "    for punctuation in string.punctuation:\n",
    "        text = text.replace(punctuation, '')\n",
    "    return text\n",
    "data['comment_text'] = data['comment_text'].apply(remove_punctuations)\n"
   ]
  },
  {
   "cell_type": "code",
   "execution_count": 52,
   "metadata": {},
   "outputs": [
    {
     "data": {
      "text/plain": [
       "159144"
      ]
     },
     "execution_count": 52,
     "metadata": {},
     "output_type": "execute_result"
    }
   ],
   "source": [
    "len(data['comment_text'].unique())"
   ]
  },
  {
   "cell_type": "code",
   "execution_count": 11,
   "metadata": {},
   "outputs": [],
   "source": [
    "data['comment_text'] = data['comment_text'].str.replace('\\n','')"
   ]
  },
  {
   "cell_type": "code",
   "execution_count": 12,
   "metadata": {},
   "outputs": [
    {
     "data": {
      "text/plain": [
       "'\\ufeffsensual pleasures of the minditalic textthere are endless creative ways to provoke and capture sensual feelings money can’t buy it you can’t see it or hold it outerpackaging offers no competition for it and no grandiose flash of materialistic presence can incite it sensuality in it’s truest sense can only be felt within  it is provoked by and through the power and brilliance of the mind it is born there and lives theresince it is a feeling rather than a physical event it is more difficult to achieve and maintain than might be found with other less deeply rooted sexual experiences  knowledge intuition and creativity are the tools necessary to discover where it lives and how to awaken it what it takes to stimulate it and how to nurture it so it will grow a conscientious partner can create a need and cravings simply by using the power of the mind    all of this offers new meaning to the old adage about the mind being a terrible thing to waste there are hot spots in the psyche that can be triggered by suggestion and connection emotional buttons  pushing those buttons engenders our partners sensory and sexual experience we do this by using one type of energy to spark another and by channeling emotional reactions into sexuality where the adventure leads is limited only by the knowledge intuition and creativity an individual possesses nothing is written in stone and there is no list of how to’s  it’s freelance flightknowledge is power getting to know your partner and what makes herhim tick and tingle is the first step the ability tounearth these secret treasures comes from paying close attention to things you say or do that result in an action or reactionindicating you have your finger on a button hot spot finding all of those buttons exploring the endless possibilities anddiscovering the wondrous places they lead takes patience and thought but the rewards are immeasurablehaving well honed intuition is a valuable asset liken it if you will to a good quarter back with a natural talent for reading the defense if you ‘know’ what your partner needs wants and desires without herhim having to explain it all then you hold a powerful advantage possessing a good base knowledge of the opposite sex in general offers a continual win win propositionbeing gifted with a creative imagination or obtaining skills in this arena will offer many positives for a lasting and pleasurable sex life desires and cravings are born in the mind and live there so it would make sense to use the power of the mind to it fullest to gain the greatest results spice and adventure are two major factors in all sexual experiences if they are not on the top of your list of priorities then they should be avoiding boredom is key in creating cravings for more if it wasnt good the first time why would anyone want to repeat it  taking your partner to a place where shehe has never been before and making each experience a lasting memory should be primary goals that is the stuff heroes are made ofsexual stimulation can be achieved and sustained through physical manipulation sexual pleasures or through mind play and manipulation a physical presence a verbal exchange a mere mentalemotional connection or any combination of all of the above can create an ‘altered mental state’ a place of arousal and euphoriasensualerotic tasks and journals are great avenues to maintain altered states rituals and sensual tasks  while away from yourpartner can help keep the buttons pushed the bond strong keep the connection flowing and offer sexual stimulation on anongoing basis keeping your partner in an ‘altered state’ often and for as long as possible will help in creating cravings and lead to a path ultimate sexual pleasurealtered statessexualityintensely turned on riding a sexual high eroticaconsumed by passionendorphin high an altered state resulting from physical or intense mental stimulationeuphoriatotally absorbed in your partner and the sensations and feelings being createdhead spacespellboundentrancedlost in the release of controltotal freedom and flightto be absorbed in the trust and acceptancea peaceful placenirvanameditative stateheightened consciousness with loss of awarenesshaving a sense of self through losing oneselftotal freedom through total loss of controlall sexual experiences need to be consensual and remain safe'"
      ]
     },
     "execution_count": 12,
     "metadata": {},
     "output_type": "execute_result"
    }
   ],
   "source": [
    "data['comment_text'].max()"
   ]
  },
  {
   "cell_type": "markdown",
   "metadata": {},
   "source": [
    "during removing puctuation we discover that data has non english words so we try to move them."
   ]
  },
  {
   "cell_type": "markdown",
   "metadata": {},
   "source": [
    "# 4 -  Remove non English words"
   ]
  },
  {
   "cell_type": "code",
   "execution_count": 13,
   "metadata": {},
   "outputs": [],
   "source": [
    "data['comment_text'] = data['comment_text'].str.replace(\"कपल दव\",'')\n",
    "data['comment_text'] = data['comment_text'].str.replace(\"कपल दव\",'')\n",
    "data['comment_text'] = data['comment_text'].str.replace(\"سلام\",'')\n",
    "data['comment_text'] = data['comment_text'].str.replace(\"ال عليكم\",'')\n",
    "data['comment_text'] = data['comment_text'].str.replace(\"גאללה\",'')\n",
    "data['comment_text'] = data['comment_text'].str.replace(\"עובדיה\",'')\n",
    "data['comment_text'] = data['comment_text'].str.replace(\"хуй\",'')\n",
    "data['comment_text'] = data['comment_text'].str.replace(\"хорошее утро\",'')\n",
    "data['comment_text'] = data['comment_text'].str.replace(\"ты нацистская сволочь и арабская подстилка иди на  пидарас сраный\",'')\n",
    "data['comment_text'] = data['comment_text'].str.replace(\"июльa\",'')\n",
    "data['comment_text'] = data['comment_text'].str.replace(\"вуистина воскресе\",'')\n",
    "data['comment_text'] = data['comment_text'].str.replace(\"σ\",'')\n",
    "data['comment_text'] = data['comment_text'].str.replace(\"μōōšε\",'')\n",
    "data['comment_text'] = data['comment_text'].str.replace(\"κεκρωψ\",'')\n",
    "data['comment_text'] = data['comment_text'].str.replace(\"α ρε γιάννη\",'')\n",
    "data['comment_text'] = data['comment_text'].str.replace(\"\\xa0\",'')\n",
    "data['comment_text'] = data['comment_text'].str.replace(\"żydokomuna\",'')\n",
    "data['comment_text'] = data['comment_text'].str.replace(\"żem\",'')\n",
    "data['comment_text'] = data['comment_text'].str.replace(\"þorgerðr\",'')\n",
    "data['comment_text'] = data['comment_text'].str.replace(\"hölgabrúðr\",'')\n",
    "data['comment_text'] = data['comment_text'].str.replace(\"\\ufeffsensual\",'')\n",
    "data['comment_text'] = data['comment_text'].str.replace(\"这是什么意思？\",'')\n",
    "data['comment_text'] = data['comment_text'].str.replace(\"笑う犬の冒険\",'')\n"
   ]
  },
  {
   "cell_type": "code",
   "execution_count": 14,
   "metadata": {},
   "outputs": [
    {
     "data": {
      "text/plain": [
       "'只 is it correctly written in the picture of the calligraphy  i would say it isnt  it is replaced by the wrong word 隻'"
      ]
     },
     "execution_count": 14,
     "metadata": {},
     "output_type": "execute_result"
    }
   ],
   "source": [
    "data['comment_text'].max()"
   ]
  },
  {
   "cell_type": "markdown",
   "metadata": {},
   "source": [
    "clearly donkey work does not work so well so we try something else"
   ]
  },
  {
   "cell_type": "markdown",
   "metadata": {},
   "source": [
    "# 5 - Trying NLTK"
   ]
  },
  {
   "cell_type": "code",
   "execution_count": 15,
   "metadata": {},
   "outputs": [
    {
     "name": "stderr",
     "output_type": "stream",
     "text": [
      "[nltk_data] Downloading package words to /Users/macbook55/nltk_data...\n",
      "[nltk_data]   Package words is already up-to-date!\n"
     ]
    },
    {
     "data": {
      "text/plain": [
       "True"
      ]
     },
     "execution_count": 15,
     "metadata": {},
     "output_type": "execute_result"
    }
   ],
   "source": [
    "import nltk\n",
    "nltk.download('words')"
   ]
  },
  {
   "cell_type": "code",
   "execution_count": 16,
   "metadata": {},
   "outputs": [
    {
     "data": {
      "text/plain": [
       "'Io to the beach with my .'"
      ]
     },
     "execution_count": 16,
     "metadata": {},
     "output_type": "execute_result"
    }
   ],
   "source": [
    "words = set(nltk.corpus.words.words())\n",
    "\n",
    "sent = \"Io andiamo to the beach with my amico.\"\n",
    "\" \".join(w for w in nltk.wordpunct_tokenize(sent) \\\n",
    "         if w.lower() in words or not w.isalpha())"
   ]
  },
  {
   "cell_type": "code",
   "execution_count": 17,
   "metadata": {},
   "outputs": [],
   "source": [
    "def clean_non_english(sent):\n",
    "    return \" \".join(w for w in nltk.wordpunct_tokenize(sent)  if w.lower() in words or not w.isalpha())\n",
    "    "
   ]
  },
  {
   "cell_type": "code",
   "execution_count": 18,
   "metadata": {},
   "outputs": [],
   "source": [
    "data['comment_text'] = data['comment_text'].apply(clean_non_english)"
   ]
  },
  {
   "cell_type": "code",
   "execution_count": 19,
   "metadata": {},
   "outputs": [
    {
     "data": {
      "text/plain": [
       "'（ no literally laughing dogs why does this translate as silly go lucky'"
      ]
     },
     "execution_count": 19,
     "metadata": {},
     "output_type": "execute_result"
    }
   ],
   "source": [
    "data['comment_text'].max()"
   ]
  },
  {
   "cell_type": "markdown",
   "metadata": {},
   "source": [
    "# 6 - Removing white spaces "
   ]
  },
  {
   "cell_type": "code",
   "execution_count": 53,
   "metadata": {},
   "outputs": [],
   "source": [
    "def remove_white(string):\n",
    "    string = string.strip()\n",
    "    return string"
   ]
  },
  {
   "cell_type": "code",
   "execution_count": 54,
   "metadata": {},
   "outputs": [],
   "source": [
    "data['comment_text'] = data['comment_text'].apply(remove_white)"
   ]
  },
  {
   "cell_type": "code",
   "execution_count": 55,
   "metadata": {},
   "outputs": [
    {
     "data": {
      "text/plain": [
       "'\\ufeffsensual pleasures of the minditalic text\\n\\nthere are endless creative ways to provoke and capture sensual feelings money can’t buy it you can’t see it or hold it outer\\npackaging offers no competition for it and no grandiose flash of materialistic presence can incite it sensuality in it’s truest sense can only be felt within  it is provoked by and through the power and brilliance of the mind it is born there and lives there\\n\\nsince it is a feeling rather than a physical event it is more difficult to achieve and maintain than might be found with other less deeply rooted sexual experiences  knowledge intuition and creativity are the tools necessary to discover where it lives and how to awaken it what it takes to stimulate it and how to nurture it so it will grow a conscientious partner can create a need and cravings simply by using the power of the mind    \\n\\nall of this offers new meaning to the old adage about the mind being a terrible thing to waste there are hot spots in the psyche that can be triggered by suggestion and connection emotional buttons  pushing those buttons engenders our partners sensory and sexual experience we do this by using one type of energy to spark another and by channeling emotional reactions into sexuality where the adventure leads is limited only by the knowledge intuition and creativity an individual possesses nothing is written in stone and there is no list of how to’s  it’s freelance flight\\n\\nknowledge is power getting to know your partner and what makes herhim tick and tingle is the first step the ability to\\nunearth these secret treasures comes from paying close attention to things you say or do that result in an action or reaction\\nindicating you have your finger on a button hot spot finding all of those buttons exploring the endless possibilities and\\ndiscovering the wondrous places they lead takes patience and thought but the rewards are immeasurable\\n\\nhaving well honed intuition is a valuable asset liken it if you will to a good quarter back with a natural talent for reading the defense if you ‘know’ what your partner needs wants and desires without herhim having to explain it all then you hold a powerful advantage possessing a good base knowledge of the opposite sex in general offers a continual win win proposition\\n\\nbeing gifted with a creative imagination or obtaining skills in this arena will offer many positives for a lasting and pleasurable sex life desires and cravings are born in the mind and live there so it would make sense to use the power of the mind to it fullest to gain the greatest results spice and adventure are two major factors in all sexual experiences if they are not on the top of your list of priorities then they should be avoiding boredom is key in creating cravings for more if it wasnt good the first time why would anyone want to repeat it  taking your partner to a place where shehe has never been before and making each experience a lasting memory should be primary goals that is the stuff heroes are made of\\n\\nsexual stimulation can be achieved and sustained through physical manipulation sexual pleasures or through mind play and manipulation a physical presence a verbal exchange a mere mentalemotional connection or any combination of all of the above can create an ‘altered mental state’ a place of arousal and euphoria\\n\\nsensualerotic tasks and journals are great avenues to maintain altered states rituals and sensual tasks  while away from your\\npartner can help keep the buttons pushed the bond strong keep the connection flowing and offer sexual stimulation on an\\nongoing basis keeping your partner in an ‘altered state’ often and for as long as possible will help in creating cravings and lead to a path ultimate sexual pleasure\\n\\naltered states\\nsexualityintensely turned on riding a sexual high eroticaconsumed by passion\\nendorphin high an altered state resulting from physical or intense mental stimulation\\neuphoriatotally absorbed in your partner and the sensations and feelings being created\\nhead spacespellboundentrancedlost in the release of controltotal freedom and flightto be absorbed in the trust and acceptancea peaceful place\\nnirvanameditative stateheightened consciousness with loss of awarenesshaving a sense of self through losing oneselftotal freedom through total loss of control\\n\\nall sexual experiences need to be consensual and remain safe'"
      ]
     },
     "execution_count": 55,
     "metadata": {},
     "output_type": "execute_result"
    }
   ],
   "source": [
    "data['comment_text'].max()"
   ]
  },
  {
   "cell_type": "code",
   "execution_count": 16,
   "metadata": {},
   "outputs": [],
   "source": [
    "data['comment_text'] = data['comment_text'].str.replace(\"（ \",'')\n",
    "data['comment_text'] = data['comment_text'].str.replace(\"《 \",'')\n",
    "data['comment_text'] = data['comment_text'].str.replace(\"➥\",'')\n",
    "data['comment_text'] = data['comment_text'].str.replace(\"「 」\",'')\n"
   ]
  },
  {
   "cell_type": "code",
   "execution_count": 17,
   "metadata": {},
   "outputs": [
    {
     "data": {
      "text/plain": [
       "'\\ufeffsensual pleasures of the minditalic textthere are endless creative ways to provoke and capture sensual feelings money can’t buy it you can’t see it or hold it outerpackaging offers no competition for it and no grandiose flash of materialistic presence can incite it sensuality in it’s truest sense can only be felt within  it is provoked by and through the power and brilliance of the mind it is born there and lives theresince it is a feeling rather than a physical event it is more difficult to achieve and maintain than might be found with other less deeply rooted sexual experiences  knowledge intuition and creativity are the tools necessary to discover where it lives and how to awaken it what it takes to stimulate it and how to nurture it so it will grow a conscientious partner can create a need and cravings simply by using the power of the mind    all of this offers new meaning to the old adage about the mind being a terrible thing to waste there are hot spots in the psyche that can be triggered by suggestion and connection emotional buttons  pushing those buttons engenders our partners sensory and sexual experience we do this by using one type of energy to spark another and by channeling emotional reactions into sexuality where the adventure leads is limited only by the knowledge intuition and creativity an individual possesses nothing is written in stone and there is no list of how to’s  it’s freelance flightknowledge is power getting to know your partner and what makes herhim tick and tingle is the first step the ability tounearth these secret treasures comes from paying close attention to things you say or do that result in an action or reactionindicating you have your finger on a button hot spot finding all of those buttons exploring the endless possibilities anddiscovering the wondrous places they lead takes patience and thought but the rewards are immeasurablehaving well honed intuition is a valuable asset liken it if you will to a good quarter back with a natural talent for reading the defense if you ‘know’ what your partner needs wants and desires without herhim having to explain it all then you hold a powerful advantage possessing a good base knowledge of the opposite sex in general offers a continual win win propositionbeing gifted with a creative imagination or obtaining skills in this arena will offer many positives for a lasting and pleasurable sex life desires and cravings are born in the mind and live there so it would make sense to use the power of the mind to it fullest to gain the greatest results spice and adventure are two major factors in all sexual experiences if they are not on the top of your list of priorities then they should be avoiding boredom is key in creating cravings for more if it wasnt good the first time why would anyone want to repeat it  taking your partner to a place where shehe has never been before and making each experience a lasting memory should be primary goals that is the stuff heroes are made ofsexual stimulation can be achieved and sustained through physical manipulation sexual pleasures or through mind play and manipulation a physical presence a verbal exchange a mere mentalemotional connection or any combination of all of the above can create an ‘altered mental state’ a place of arousal and euphoriasensualerotic tasks and journals are great avenues to maintain altered states rituals and sensual tasks  while away from yourpartner can help keep the buttons pushed the bond strong keep the connection flowing and offer sexual stimulation on anongoing basis keeping your partner in an ‘altered state’ often and for as long as possible will help in creating cravings and lead to a path ultimate sexual pleasurealtered statessexualityintensely turned on riding a sexual high eroticaconsumed by passionendorphin high an altered state resulting from physical or intense mental stimulationeuphoriatotally absorbed in your partner and the sensations and feelings being createdhead spacespellboundentrancedlost in the release of controltotal freedom and flightto be absorbed in the trust and acceptancea peaceful placenirvanameditative stateheightened consciousness with loss of awarenesshaving a sense of self through losing oneselftotal freedom through total loss of controlall sexual experiences need to be consensual and remain safe'"
      ]
     },
     "execution_count": 17,
     "metadata": {},
     "output_type": "execute_result"
    }
   ],
   "source": [
    "data['comment_text'].max()"
   ]
  },
  {
   "cell_type": "code",
   "execution_count": 56,
   "metadata": {},
   "outputs": [
    {
     "data": {
      "text/plain": [
       "158684"
      ]
     },
     "execution_count": 56,
     "metadata": {},
     "output_type": "execute_result"
    }
   ],
   "source": [
    "len(data['comment_text'].unique())"
   ]
  },
  {
   "cell_type": "markdown",
   "metadata": {},
   "source": [
    "# 7 - STeming"
   ]
  },
  {
   "cell_type": "code",
   "execution_count": 17,
   "metadata": {},
   "outputs": [],
   "source": [
    "from nltk.stem import PorterStemmer\n",
    "from nltk.stem import LancasterStemmer"
   ]
  },
  {
   "cell_type": "code",
   "execution_count": 18,
   "metadata": {},
   "outputs": [],
   "source": [
    "porter = PorterStemmer()\n",
    "lancaster =LancasterStemmer()"
   ]
  },
  {
   "cell_type": "code",
   "execution_count": 21,
   "metadata": {},
   "outputs": [
    {
     "name": "stdout",
     "output_type": "stream",
     "text": [
      "/Users/macbook55/.pyenv/versions/3.7.5/bin/python: Error while finding module specification for 'nltk.downloader' (ModuleNotFoundError: No module named 'nltk')\r\n"
     ]
    }
   ],
   "source": [
    "!python -m nltk.downloader 'punkt'"
   ]
  },
  {
   "cell_type": "code",
   "execution_count": 22,
   "metadata": {},
   "outputs": [],
   "source": [
    "from nltk.tokenize import sent_tokenize, word_tokenize\n",
    "def stemSentence(sentence):\n",
    "    token_words=word_tokenize(sentence)\n",
    "    token_words\n",
    "    stem_sentence=[]\n",
    "    for word in token_words:\n",
    "        stem_sentence.append(porter.stem(word))\n",
    "        stem_sentence.append(\" \")\n",
    "    return \"\".join(stem_sentence)"
   ]
  },
  {
   "cell_type": "code",
   "execution_count": 23,
   "metadata": {},
   "outputs": [
    {
     "ename": "RecursionError",
     "evalue": "maximum recursion depth exceeded in comparison",
     "output_type": "error",
     "traceback": [
      "\u001b[0;31m---------------------------------------------------------------------------\u001b[0m",
      "\u001b[0;31mRecursionError\u001b[0m                            Traceback (most recent call last)",
      "\u001b[0;32m<ipython-input-23-aafecd2471f5>\u001b[0m in \u001b[0;36m<module>\u001b[0;34m\u001b[0m\n\u001b[0;32m----> 1\u001b[0;31m \u001b[0mdata\u001b[0m\u001b[0;34m[\u001b[0m\u001b[0;34m'comment_text'\u001b[0m\u001b[0;34m]\u001b[0m \u001b[0;34m=\u001b[0m \u001b[0mdata\u001b[0m\u001b[0;34m[\u001b[0m\u001b[0;34m'comment_text'\u001b[0m\u001b[0;34m]\u001b[0m\u001b[0;34m.\u001b[0m\u001b[0mapply\u001b[0m\u001b[0;34m(\u001b[0m\u001b[0mstemSentence\u001b[0m\u001b[0;34m)\u001b[0m\u001b[0;34m\u001b[0m\u001b[0;34m\u001b[0m\u001b[0m\n\u001b[0m",
      "\u001b[0;32m/usr/local/lib/python3.7/site-packages/pandas/core/series.py\u001b[0m in \u001b[0;36mapply\u001b[0;34m(self, func, convert_dtype, args, **kwds)\u001b[0m\n\u001b[1;32m   4043\u001b[0m             \u001b[0;32melse\u001b[0m\u001b[0;34m:\u001b[0m\u001b[0;34m\u001b[0m\u001b[0;34m\u001b[0m\u001b[0m\n\u001b[1;32m   4044\u001b[0m                 \u001b[0mvalues\u001b[0m \u001b[0;34m=\u001b[0m \u001b[0mself\u001b[0m\u001b[0;34m.\u001b[0m\u001b[0mastype\u001b[0m\u001b[0;34m(\u001b[0m\u001b[0mobject\u001b[0m\u001b[0;34m)\u001b[0m\u001b[0;34m.\u001b[0m\u001b[0mvalues\u001b[0m\u001b[0;34m\u001b[0m\u001b[0;34m\u001b[0m\u001b[0m\n\u001b[0;32m-> 4045\u001b[0;31m                 \u001b[0mmapped\u001b[0m \u001b[0;34m=\u001b[0m \u001b[0mlib\u001b[0m\u001b[0;34m.\u001b[0m\u001b[0mmap_infer\u001b[0m\u001b[0;34m(\u001b[0m\u001b[0mvalues\u001b[0m\u001b[0;34m,\u001b[0m \u001b[0mf\u001b[0m\u001b[0;34m,\u001b[0m \u001b[0mconvert\u001b[0m\u001b[0;34m=\u001b[0m\u001b[0mconvert_dtype\u001b[0m\u001b[0;34m)\u001b[0m\u001b[0;34m\u001b[0m\u001b[0;34m\u001b[0m\u001b[0m\n\u001b[0m\u001b[1;32m   4046\u001b[0m \u001b[0;34m\u001b[0m\u001b[0m\n\u001b[1;32m   4047\u001b[0m         \u001b[0;32mif\u001b[0m \u001b[0mlen\u001b[0m\u001b[0;34m(\u001b[0m\u001b[0mmapped\u001b[0m\u001b[0;34m)\u001b[0m \u001b[0;32mand\u001b[0m \u001b[0misinstance\u001b[0m\u001b[0;34m(\u001b[0m\u001b[0mmapped\u001b[0m\u001b[0;34m[\u001b[0m\u001b[0;36m0\u001b[0m\u001b[0;34m]\u001b[0m\u001b[0;34m,\u001b[0m \u001b[0mSeries\u001b[0m\u001b[0;34m)\u001b[0m\u001b[0;34m:\u001b[0m\u001b[0;34m\u001b[0m\u001b[0;34m\u001b[0m\u001b[0m\n",
      "\u001b[0;32mpandas/_libs/lib.pyx\u001b[0m in \u001b[0;36mpandas._libs.lib.map_infer\u001b[0;34m()\u001b[0m\n",
      "\u001b[0;32m<ipython-input-22-27df253f0915>\u001b[0m in \u001b[0;36mstemSentence\u001b[0;34m(sentence)\u001b[0m\n\u001b[1;32m      5\u001b[0m     \u001b[0mstem_sentence\u001b[0m\u001b[0;34m=\u001b[0m\u001b[0;34m[\u001b[0m\u001b[0;34m]\u001b[0m\u001b[0;34m\u001b[0m\u001b[0;34m\u001b[0m\u001b[0m\n\u001b[1;32m      6\u001b[0m     \u001b[0;32mfor\u001b[0m \u001b[0mword\u001b[0m \u001b[0;32min\u001b[0m \u001b[0mtoken_words\u001b[0m\u001b[0;34m:\u001b[0m\u001b[0;34m\u001b[0m\u001b[0;34m\u001b[0m\u001b[0m\n\u001b[0;32m----> 7\u001b[0;31m         \u001b[0mstem_sentence\u001b[0m\u001b[0;34m.\u001b[0m\u001b[0mappend\u001b[0m\u001b[0;34m(\u001b[0m\u001b[0mporter\u001b[0m\u001b[0;34m.\u001b[0m\u001b[0mstem\u001b[0m\u001b[0;34m(\u001b[0m\u001b[0mword\u001b[0m\u001b[0;34m)\u001b[0m\u001b[0;34m)\u001b[0m\u001b[0;34m\u001b[0m\u001b[0;34m\u001b[0m\u001b[0m\n\u001b[0m\u001b[1;32m      8\u001b[0m         \u001b[0mstem_sentence\u001b[0m\u001b[0;34m.\u001b[0m\u001b[0mappend\u001b[0m\u001b[0;34m(\u001b[0m\u001b[0;34m\" \"\u001b[0m\u001b[0;34m)\u001b[0m\u001b[0;34m\u001b[0m\u001b[0;34m\u001b[0m\u001b[0m\n\u001b[1;32m      9\u001b[0m     \u001b[0;32mreturn\u001b[0m \u001b[0;34m\"\"\u001b[0m\u001b[0;34m.\u001b[0m\u001b[0mjoin\u001b[0m\u001b[0;34m(\u001b[0m\u001b[0mstem_sentence\u001b[0m\u001b[0;34m)\u001b[0m\u001b[0;34m\u001b[0m\u001b[0;34m\u001b[0m\u001b[0m\n",
      "\u001b[0;32m/usr/local/lib/python3.7/site-packages/nltk/stem/porter.py\u001b[0m in \u001b[0;36mstem\u001b[0;34m(self, word)\u001b[0m\n\u001b[1;32m    667\u001b[0m         \u001b[0mstem\u001b[0m \u001b[0;34m=\u001b[0m \u001b[0mself\u001b[0m\u001b[0;34m.\u001b[0m\u001b[0m_step1a\u001b[0m\u001b[0;34m(\u001b[0m\u001b[0mstem\u001b[0m\u001b[0;34m)\u001b[0m\u001b[0;34m\u001b[0m\u001b[0;34m\u001b[0m\u001b[0m\n\u001b[1;32m    668\u001b[0m         \u001b[0mstem\u001b[0m \u001b[0;34m=\u001b[0m \u001b[0mself\u001b[0m\u001b[0;34m.\u001b[0m\u001b[0m_step1b\u001b[0m\u001b[0;34m(\u001b[0m\u001b[0mstem\u001b[0m\u001b[0;34m)\u001b[0m\u001b[0;34m\u001b[0m\u001b[0;34m\u001b[0m\u001b[0m\n\u001b[0;32m--> 669\u001b[0;31m         \u001b[0mstem\u001b[0m \u001b[0;34m=\u001b[0m \u001b[0mself\u001b[0m\u001b[0;34m.\u001b[0m\u001b[0m_step1c\u001b[0m\u001b[0;34m(\u001b[0m\u001b[0mstem\u001b[0m\u001b[0;34m)\u001b[0m\u001b[0;34m\u001b[0m\u001b[0;34m\u001b[0m\u001b[0m\n\u001b[0m\u001b[1;32m    670\u001b[0m         \u001b[0mstem\u001b[0m \u001b[0;34m=\u001b[0m \u001b[0mself\u001b[0m\u001b[0;34m.\u001b[0m\u001b[0m_step2\u001b[0m\u001b[0;34m(\u001b[0m\u001b[0mstem\u001b[0m\u001b[0;34m)\u001b[0m\u001b[0;34m\u001b[0m\u001b[0;34m\u001b[0m\u001b[0m\n\u001b[1;32m    671\u001b[0m         \u001b[0mstem\u001b[0m \u001b[0;34m=\u001b[0m \u001b[0mself\u001b[0m\u001b[0;34m.\u001b[0m\u001b[0m_step3\u001b[0m\u001b[0;34m(\u001b[0m\u001b[0mstem\u001b[0m\u001b[0;34m)\u001b[0m\u001b[0;34m\u001b[0m\u001b[0;34m\u001b[0m\u001b[0m\n",
      "\u001b[0;32m/usr/local/lib/python3.7/site-packages/nltk/stem/porter.py\u001b[0m in \u001b[0;36m_step1c\u001b[0;34m(self, word)\u001b[0m\n\u001b[1;32m    429\u001b[0m                     \u001b[0mnltk_condition\u001b[0m\u001b[0;34m\u001b[0m\u001b[0;34m\u001b[0m\u001b[0m\n\u001b[1;32m    430\u001b[0m                     \u001b[0;32mif\u001b[0m \u001b[0mself\u001b[0m\u001b[0;34m.\u001b[0m\u001b[0mmode\u001b[0m \u001b[0;34m==\u001b[0m \u001b[0mself\u001b[0m\u001b[0;34m.\u001b[0m\u001b[0mNLTK_EXTENSIONS\u001b[0m\u001b[0;34m\u001b[0m\u001b[0;34m\u001b[0m\u001b[0m\n\u001b[0;32m--> 431\u001b[0;31m                     \u001b[0;32melse\u001b[0m \u001b[0moriginal_condition\u001b[0m\u001b[0;34m,\u001b[0m\u001b[0;34m\u001b[0m\u001b[0;34m\u001b[0m\u001b[0m\n\u001b[0m\u001b[1;32m    432\u001b[0m                 )\n\u001b[1;32m    433\u001b[0m             ],\n",
      "\u001b[0;32m/usr/local/lib/python3.7/site-packages/nltk/stem/porter.py\u001b[0m in \u001b[0;36m_apply_rule_list\u001b[0;34m(self, word, rules)\u001b[0m\n\u001b[1;32m    267\u001b[0m             \u001b[0;32mif\u001b[0m \u001b[0mword\u001b[0m\u001b[0;34m.\u001b[0m\u001b[0mendswith\u001b[0m\u001b[0;34m(\u001b[0m\u001b[0msuffix\u001b[0m\u001b[0;34m)\u001b[0m\u001b[0;34m:\u001b[0m\u001b[0;34m\u001b[0m\u001b[0;34m\u001b[0m\u001b[0m\n\u001b[1;32m    268\u001b[0m                 \u001b[0mstem\u001b[0m \u001b[0;34m=\u001b[0m \u001b[0mself\u001b[0m\u001b[0;34m.\u001b[0m\u001b[0m_replace_suffix\u001b[0m\u001b[0;34m(\u001b[0m\u001b[0mword\u001b[0m\u001b[0;34m,\u001b[0m \u001b[0msuffix\u001b[0m\u001b[0;34m,\u001b[0m \u001b[0;34m''\u001b[0m\u001b[0;34m)\u001b[0m\u001b[0;34m\u001b[0m\u001b[0;34m\u001b[0m\u001b[0m\n\u001b[0;32m--> 269\u001b[0;31m                 \u001b[0;32mif\u001b[0m \u001b[0mcondition\u001b[0m \u001b[0;32mis\u001b[0m \u001b[0;32mNone\u001b[0m \u001b[0;32mor\u001b[0m \u001b[0mcondition\u001b[0m\u001b[0;34m(\u001b[0m\u001b[0mstem\u001b[0m\u001b[0;34m)\u001b[0m\u001b[0;34m:\u001b[0m\u001b[0;34m\u001b[0m\u001b[0;34m\u001b[0m\u001b[0m\n\u001b[0m\u001b[1;32m    270\u001b[0m                     \u001b[0;32mreturn\u001b[0m \u001b[0mstem\u001b[0m \u001b[0;34m+\u001b[0m \u001b[0mreplacement\u001b[0m\u001b[0;34m\u001b[0m\u001b[0;34m\u001b[0m\u001b[0m\n\u001b[1;32m    271\u001b[0m                 \u001b[0;32melse\u001b[0m\u001b[0;34m:\u001b[0m\u001b[0;34m\u001b[0m\u001b[0;34m\u001b[0m\u001b[0m\n",
      "\u001b[0;32m/usr/local/lib/python3.7/site-packages/nltk/stem/porter.py\u001b[0m in \u001b[0;36mnltk_condition\u001b[0;34m(stem)\u001b[0m\n\u001b[1;32m    416\u001b[0m             \u001b[0mconflate\u001b[0m \u001b[0;32mwith\u001b[0m \u001b[0;34m'spied'\u001b[0m\u001b[0;34m,\u001b[0m \u001b[0;34m'tried'\u001b[0m\u001b[0;34m,\u001b[0m \u001b[0;34m'flies'\u001b[0m \u001b[0;34m...\u001b[0m\u001b[0;34m\u001b[0m\u001b[0;34m\u001b[0m\u001b[0m\n\u001b[1;32m    417\u001b[0m             \"\"\"\n\u001b[0;32m--> 418\u001b[0;31m             \u001b[0;32mreturn\u001b[0m \u001b[0mlen\u001b[0m\u001b[0;34m(\u001b[0m\u001b[0mstem\u001b[0m\u001b[0;34m)\u001b[0m \u001b[0;34m>\u001b[0m \u001b[0;36m1\u001b[0m \u001b[0;32mand\u001b[0m \u001b[0mself\u001b[0m\u001b[0;34m.\u001b[0m\u001b[0m_is_consonant\u001b[0m\u001b[0;34m(\u001b[0m\u001b[0mstem\u001b[0m\u001b[0;34m,\u001b[0m \u001b[0mlen\u001b[0m\u001b[0;34m(\u001b[0m\u001b[0mstem\u001b[0m\u001b[0;34m)\u001b[0m \u001b[0;34m-\u001b[0m \u001b[0;36m1\u001b[0m\u001b[0;34m)\u001b[0m\u001b[0;34m\u001b[0m\u001b[0;34m\u001b[0m\u001b[0m\n\u001b[0m\u001b[1;32m    419\u001b[0m \u001b[0;34m\u001b[0m\u001b[0m\n\u001b[1;32m    420\u001b[0m         \u001b[0;32mdef\u001b[0m \u001b[0moriginal_condition\u001b[0m\u001b[0;34m(\u001b[0m\u001b[0mstem\u001b[0m\u001b[0;34m)\u001b[0m\u001b[0;34m:\u001b[0m\u001b[0;34m\u001b[0m\u001b[0;34m\u001b[0m\u001b[0m\n",
      "\u001b[0;32m/usr/local/lib/python3.7/site-packages/nltk/stem/porter.py\u001b[0m in \u001b[0;36m_is_consonant\u001b[0;34m(self, word, i)\u001b[0m\n\u001b[1;32m    143\u001b[0m                 \u001b[0;32mreturn\u001b[0m \u001b[0;32mTrue\u001b[0m\u001b[0;34m\u001b[0m\u001b[0;34m\u001b[0m\u001b[0m\n\u001b[1;32m    144\u001b[0m             \u001b[0;32melse\u001b[0m\u001b[0;34m:\u001b[0m\u001b[0;34m\u001b[0m\u001b[0;34m\u001b[0m\u001b[0m\n\u001b[0;32m--> 145\u001b[0;31m                 \u001b[0;32mreturn\u001b[0m \u001b[0;32mnot\u001b[0m \u001b[0mself\u001b[0m\u001b[0;34m.\u001b[0m\u001b[0m_is_consonant\u001b[0m\u001b[0;34m(\u001b[0m\u001b[0mword\u001b[0m\u001b[0;34m,\u001b[0m \u001b[0mi\u001b[0m \u001b[0;34m-\u001b[0m \u001b[0;36m1\u001b[0m\u001b[0;34m)\u001b[0m\u001b[0;34m\u001b[0m\u001b[0;34m\u001b[0m\u001b[0m\n\u001b[0m\u001b[1;32m    146\u001b[0m         \u001b[0;32mreturn\u001b[0m \u001b[0;32mTrue\u001b[0m\u001b[0;34m\u001b[0m\u001b[0;34m\u001b[0m\u001b[0m\n\u001b[1;32m    147\u001b[0m \u001b[0;34m\u001b[0m\u001b[0m\n",
      "... last 1 frames repeated, from the frame below ...\n",
      "\u001b[0;32m/usr/local/lib/python3.7/site-packages/nltk/stem/porter.py\u001b[0m in \u001b[0;36m_is_consonant\u001b[0;34m(self, word, i)\u001b[0m\n\u001b[1;32m    143\u001b[0m                 \u001b[0;32mreturn\u001b[0m \u001b[0;32mTrue\u001b[0m\u001b[0;34m\u001b[0m\u001b[0;34m\u001b[0m\u001b[0m\n\u001b[1;32m    144\u001b[0m             \u001b[0;32melse\u001b[0m\u001b[0;34m:\u001b[0m\u001b[0;34m\u001b[0m\u001b[0;34m\u001b[0m\u001b[0m\n\u001b[0;32m--> 145\u001b[0;31m                 \u001b[0;32mreturn\u001b[0m \u001b[0;32mnot\u001b[0m \u001b[0mself\u001b[0m\u001b[0;34m.\u001b[0m\u001b[0m_is_consonant\u001b[0m\u001b[0;34m(\u001b[0m\u001b[0mword\u001b[0m\u001b[0;34m,\u001b[0m \u001b[0mi\u001b[0m \u001b[0;34m-\u001b[0m \u001b[0;36m1\u001b[0m\u001b[0;34m)\u001b[0m\u001b[0;34m\u001b[0m\u001b[0;34m\u001b[0m\u001b[0m\n\u001b[0m\u001b[1;32m    146\u001b[0m         \u001b[0;32mreturn\u001b[0m \u001b[0;32mTrue\u001b[0m\u001b[0;34m\u001b[0m\u001b[0;34m\u001b[0m\u001b[0m\n\u001b[1;32m    147\u001b[0m \u001b[0;34m\u001b[0m\u001b[0m\n",
      "\u001b[0;31mRecursionError\u001b[0m: maximum recursion depth exceeded in comparison"
     ]
    }
   ],
   "source": [
    "data['comment_text'] = data['comment_text'].apply(stemSentence)"
   ]
  },
  {
   "cell_type": "code",
   "execution_count": 22,
   "metadata": {},
   "outputs": [
    {
     "data": {
      "text/plain": [
       "0         explanationwhy the edits made under my usernam...\n",
       "1         daww he matches this background colour im seem...\n",
       "2         hey man im really not trying to edit war its j...\n",
       "3         morei cant make any real suggestions on improv...\n",
       "4         you sir are my hero any chance you remember wh...\n",
       "                                ...                        \n",
       "159566    and for the second time of asking when your vi...\n",
       "159567    you should be ashamed of yourself that is a ho...\n",
       "159568    spitzer umm theres no actual article for prost...\n",
       "159569    and it looks like it was actually you who put ...\n",
       "159570    and  i really dont think you understand  i cam...\n",
       "Name: comment_text, Length: 159571, dtype: object"
      ]
     },
     "execution_count": 22,
     "metadata": {},
     "output_type": "execute_result"
    }
   ],
   "source": [
    "data['comment_text']"
   ]
  },
  {
   "cell_type": "markdown",
   "metadata": {},
   "source": [
    "# 8 - Transforming Data into Toxic Non toxic"
   ]
  },
  {
   "cell_type": "markdown",
   "metadata": {},
   "source": [
    "adding new column according to toxity"
   ]
  },
  {
   "cell_type": "code",
   "execution_count": 16,
   "metadata": {},
   "outputs": [],
   "source": [
    "toxic_list = []\n",
    "for i in range(len(data)):\n",
    "    if (data.iloc[i].loc['toxic'] == 1) or (data.iloc[i].loc['severe_toxic']== 1)  or (data.iloc[i].loc['obscene'] == 1) or data.iloc[i].loc['threat'] == 1 or data.iloc[i].loc['insult'] == 1 or data.iloc[i].loc['identity_hate'] == 1 :\n",
    "        toxic_list.append(1)\n",
    "    else :\n",
    "        toxic_list.append(0)\n",
    "        \n",
    "        \n",
    "        \n",
    "    "
   ]
  },
  {
   "cell_type": "code",
   "execution_count": 17,
   "metadata": {},
   "outputs": [],
   "source": [
    "toxic = np.array(toxic_list)\n",
    "tox = pd.Series(toxic)\n",
    "data = data.drop(['toxic'], axis = 1)"
   ]
  },
  {
   "cell_type": "code",
   "execution_count": 18,
   "metadata": {},
   "outputs": [],
   "source": [
    "data = data.drop(['severe_toxic'], axis = 1)\n",
    "data = data.drop(['obscene'], axis = 1)\n",
    "data = data.drop(['threat'], axis = 1)\n",
    "data = data.drop(['insult'], axis = 1)\n",
    "data = data.drop(['identity_hate'], axis = 1)"
   ]
  },
  {
   "cell_type": "code",
   "execution_count": 19,
   "metadata": {},
   "outputs": [],
   "source": [
    "data = pd.concat([data,tox],axis = 1)\n"
   ]
  },
  {
   "cell_type": "code",
   "execution_count": 20,
   "metadata": {},
   "outputs": [],
   "source": [
    "export_csv = data.to_csv (r'Macintosh HD⁩\\⁨Users⁩\\⁨macbook55⁩\\⁨Downloads⁩\\⁨NU diploma⁩\\⁨intro to machine learning⁩\\⁨project toxic comments⁩\\Classification\\ready_data.csv⁩', index = None, header=True) #Don't forget to add '.csv' at the end of the path\n"
   ]
  },
  {
   "cell_type": "code",
   "execution_count": 21,
   "metadata": {},
   "outputs": [
    {
     "data": {
      "text/html": [
       "<div>\n",
       "<style scoped>\n",
       "    .dataframe tbody tr th:only-of-type {\n",
       "        vertical-align: middle;\n",
       "    }\n",
       "\n",
       "    .dataframe tbody tr th {\n",
       "        vertical-align: top;\n",
       "    }\n",
       "\n",
       "    .dataframe thead th {\n",
       "        text-align: right;\n",
       "    }\n",
       "</style>\n",
       "<table border=\"1\" class=\"dataframe\">\n",
       "  <thead>\n",
       "    <tr style=\"text-align: right;\">\n",
       "      <th></th>\n",
       "      <th>id</th>\n",
       "      <th>comment_text</th>\n",
       "      <th>0</th>\n",
       "    </tr>\n",
       "  </thead>\n",
       "  <tbody>\n",
       "    <tr>\n",
       "      <th>6</th>\n",
       "      <td>0002bcb3da6cb337</td>\n",
       "      <td>cocksucker before you piss around on my work</td>\n",
       "      <td>1</td>\n",
       "    </tr>\n",
       "    <tr>\n",
       "      <th>12</th>\n",
       "      <td>0005c987bdfc9d4b</td>\n",
       "      <td>hey what is it  talk what is it an exclusive g...</td>\n",
       "      <td>1</td>\n",
       "    </tr>\n",
       "    <tr>\n",
       "      <th>16</th>\n",
       "      <td>0007e25b2121310b</td>\n",
       "      <td>bye dont look come or think of comming back to...</td>\n",
       "      <td>1</td>\n",
       "    </tr>\n",
       "    <tr>\n",
       "      <th>42</th>\n",
       "      <td>001810bf8c45bf5f</td>\n",
       "      <td>you are gay or antisemmitian archangel white t...</td>\n",
       "      <td>1</td>\n",
       "    </tr>\n",
       "    <tr>\n",
       "      <th>43</th>\n",
       "      <td>00190820581d90ce</td>\n",
       "      <td>fuck your filthy mother in the ass dry</td>\n",
       "      <td>1</td>\n",
       "    </tr>\n",
       "    <tr>\n",
       "      <th>...</th>\n",
       "      <td>...</td>\n",
       "      <td>...</td>\n",
       "      <td>...</td>\n",
       "    </tr>\n",
       "    <tr>\n",
       "      <th>159494</th>\n",
       "      <td>fef4cf7ba0012866</td>\n",
       "      <td>our previous conversation you fucking shit eat...</td>\n",
       "      <td>1</td>\n",
       "    </tr>\n",
       "    <tr>\n",
       "      <th>159514</th>\n",
       "      <td>ff39a2895fc3b40e</td>\n",
       "      <td>you are a mischievious pubic hair</td>\n",
       "      <td>1</td>\n",
       "    </tr>\n",
       "    <tr>\n",
       "      <th>159541</th>\n",
       "      <td>ffa33d3122b599d6</td>\n",
       "      <td>your absurd edits your absurd edits on great w...</td>\n",
       "      <td>1</td>\n",
       "    </tr>\n",
       "    <tr>\n",
       "      <th>159546</th>\n",
       "      <td>ffb47123b2d82762</td>\n",
       "      <td>hey listen dont you ever delete my edits ever ...</td>\n",
       "      <td>1</td>\n",
       "    </tr>\n",
       "    <tr>\n",
       "      <th>159554</th>\n",
       "      <td>ffbdbb0483ed0841</td>\n",
       "      <td>and im going to keep posting the stuff u delet...</td>\n",
       "      <td>1</td>\n",
       "    </tr>\n",
       "  </tbody>\n",
       "</table>\n",
       "<p>16225 rows × 3 columns</p>\n",
       "</div>"
      ],
      "text/plain": [
       "                      id                                       comment_text  0\n",
       "6       0002bcb3da6cb337       cocksucker before you piss around on my work  1\n",
       "12      0005c987bdfc9d4b  hey what is it  talk what is it an exclusive g...  1\n",
       "16      0007e25b2121310b  bye dont look come or think of comming back to...  1\n",
       "42      001810bf8c45bf5f  you are gay or antisemmitian archangel white t...  1\n",
       "43      00190820581d90ce             fuck your filthy mother in the ass dry  1\n",
       "...                  ...                                                ... ..\n",
       "159494  fef4cf7ba0012866  our previous conversation you fucking shit eat...  1\n",
       "159514  ff39a2895fc3b40e                  you are a mischievious pubic hair  1\n",
       "159541  ffa33d3122b599d6  your absurd edits your absurd edits on great w...  1\n",
       "159546  ffb47123b2d82762  hey listen dont you ever delete my edits ever ...  1\n",
       "159554  ffbdbb0483ed0841  and im going to keep posting the stuff u delet...  1\n",
       "\n",
       "[16225 rows x 3 columns]"
      ]
     },
     "execution_count": 21,
     "metadata": {},
     "output_type": "execute_result"
    }
   ],
   "source": [
    "data [ data[0] == 1]"
   ]
  },
  {
   "cell_type": "markdown",
   "metadata": {},
   "source": [
    "# Converting data to numbers \"vectorization\""
   ]
  },
  {
   "cell_type": "code",
   "execution_count": 22,
   "metadata": {},
   "outputs": [],
   "source": [
    "from sklearn.feature_extraction.text import CountVectorizer\n",
    "from sklearn.feature_extraction.text import CountVectorizer\n",
    "from sklearn.feature_extraction.text import TfidfVectorizer\n",
    "vect = TfidfVectorizer(max_features=1200,stop_words='english')\n",
    "X = vect.fit_transform(data.comment_text)"
   ]
  },
  {
   "cell_type": "code",
   "execution_count": null,
   "metadata": {},
   "outputs": [],
   "source": []
  },
  {
   "cell_type": "code",
   "execution_count": 23,
   "metadata": {},
   "outputs": [],
   "source": [
    "y = data[0].values\n"
   ]
  },
  {
   "cell_type": "markdown",
   "metadata": {},
   "source": [
    "# Using logistic Regression in classifying"
   ]
  },
  {
   "cell_type": "code",
   "execution_count": 24,
   "metadata": {},
   "outputs": [],
   "source": [
    "from sklearn.linear_model import LogisticRegression"
   ]
  },
  {
   "cell_type": "code",
   "execution_count": 25,
   "metadata": {},
   "outputs": [
    {
     "name": "stderr",
     "output_type": "stream",
     "text": [
      "/usr/local/lib/python3.7/site-packages/sklearn/linear_model/logistic.py:432: FutureWarning: Default solver will be changed to 'lbfgs' in 0.22. Specify a solver to silence this warning.\n",
      "  FutureWarning)\n"
     ]
    }
   ],
   "source": [
    "clf = LogisticRegression(random_state=0).fit(X, y)\n"
   ]
  },
  {
   "cell_type": "markdown",
   "metadata": {},
   "source": [
    "(Training Score)"
   ]
  },
  {
   "cell_type": "code",
   "execution_count": 26,
   "metadata": {},
   "outputs": [
    {
     "data": {
      "text/plain": [
       "0.9496211717667997"
      ]
     },
     "execution_count": 26,
     "metadata": {},
     "output_type": "execute_result"
    }
   ],
   "source": [
    "clf.score(X,y)"
   ]
  },
  {
   "cell_type": "markdown",
   "metadata": {},
   "source": [
    "# prepaing test data "
   ]
  },
  {
   "cell_type": "code",
   "execution_count": 57,
   "metadata": {},
   "outputs": [],
   "source": [
    "data_test = pd.read_csv(\"test.csv\")\n",
    "y_test = pd.read_csv(\"test_labels.csv\")\n",
    "y_test = y_test.drop(\n",
    "    ['id'],axis =1 )"
   ]
  },
  {
   "cell_type": "code",
   "execution_count": 58,
   "metadata": {},
   "outputs": [],
   "source": [
    "data_test = pd.concat([data_test,y_test],axis = 1)"
   ]
  },
  {
   "cell_type": "code",
   "execution_count": 59,
   "metadata": {},
   "outputs": [
    {
     "data": {
      "text/html": [
       "<div>\n",
       "<style scoped>\n",
       "    .dataframe tbody tr th:only-of-type {\n",
       "        vertical-align: middle;\n",
       "    }\n",
       "\n",
       "    .dataframe tbody tr th {\n",
       "        vertical-align: top;\n",
       "    }\n",
       "\n",
       "    .dataframe thead th {\n",
       "        text-align: right;\n",
       "    }\n",
       "</style>\n",
       "<table border=\"1\" class=\"dataframe\">\n",
       "  <thead>\n",
       "    <tr style=\"text-align: right;\">\n",
       "      <th></th>\n",
       "      <th>id</th>\n",
       "      <th>comment_text</th>\n",
       "      <th>toxic</th>\n",
       "      <th>severe_toxic</th>\n",
       "      <th>obscene</th>\n",
       "      <th>threat</th>\n",
       "      <th>insult</th>\n",
       "      <th>identity_hate</th>\n",
       "    </tr>\n",
       "  </thead>\n",
       "  <tbody>\n",
       "    <tr>\n",
       "      <th>0</th>\n",
       "      <td>00001cee341fdb12</td>\n",
       "      <td>Yo bitch Ja Rule is more succesful then you'll...</td>\n",
       "      <td>-1</td>\n",
       "      <td>-1</td>\n",
       "      <td>-1</td>\n",
       "      <td>-1</td>\n",
       "      <td>-1</td>\n",
       "      <td>-1</td>\n",
       "    </tr>\n",
       "    <tr>\n",
       "      <th>1</th>\n",
       "      <td>0000247867823ef7</td>\n",
       "      <td>== From RfC == \\n\\n The title is fine as it is...</td>\n",
       "      <td>-1</td>\n",
       "      <td>-1</td>\n",
       "      <td>-1</td>\n",
       "      <td>-1</td>\n",
       "      <td>-1</td>\n",
       "      <td>-1</td>\n",
       "    </tr>\n",
       "    <tr>\n",
       "      <th>2</th>\n",
       "      <td>00013b17ad220c46</td>\n",
       "      <td>\" \\n\\n == Sources == \\n\\n * Zawe Ashton on Lap...</td>\n",
       "      <td>-1</td>\n",
       "      <td>-1</td>\n",
       "      <td>-1</td>\n",
       "      <td>-1</td>\n",
       "      <td>-1</td>\n",
       "      <td>-1</td>\n",
       "    </tr>\n",
       "    <tr>\n",
       "      <th>3</th>\n",
       "      <td>00017563c3f7919a</td>\n",
       "      <td>:If you have a look back at the source, the in...</td>\n",
       "      <td>-1</td>\n",
       "      <td>-1</td>\n",
       "      <td>-1</td>\n",
       "      <td>-1</td>\n",
       "      <td>-1</td>\n",
       "      <td>-1</td>\n",
       "    </tr>\n",
       "    <tr>\n",
       "      <th>4</th>\n",
       "      <td>00017695ad8997eb</td>\n",
       "      <td>I don't anonymously edit articles at all.</td>\n",
       "      <td>-1</td>\n",
       "      <td>-1</td>\n",
       "      <td>-1</td>\n",
       "      <td>-1</td>\n",
       "      <td>-1</td>\n",
       "      <td>-1</td>\n",
       "    </tr>\n",
       "    <tr>\n",
       "      <th>...</th>\n",
       "      <td>...</td>\n",
       "      <td>...</td>\n",
       "      <td>...</td>\n",
       "      <td>...</td>\n",
       "      <td>...</td>\n",
       "      <td>...</td>\n",
       "      <td>...</td>\n",
       "      <td>...</td>\n",
       "    </tr>\n",
       "    <tr>\n",
       "      <th>153159</th>\n",
       "      <td>fffcd0960ee309b5</td>\n",
       "      <td>. \\n i totally agree, this stuff is nothing bu...</td>\n",
       "      <td>-1</td>\n",
       "      <td>-1</td>\n",
       "      <td>-1</td>\n",
       "      <td>-1</td>\n",
       "      <td>-1</td>\n",
       "      <td>-1</td>\n",
       "    </tr>\n",
       "    <tr>\n",
       "      <th>153160</th>\n",
       "      <td>fffd7a9a6eb32c16</td>\n",
       "      <td>== Throw from out field to home plate. == \\n\\n...</td>\n",
       "      <td>-1</td>\n",
       "      <td>-1</td>\n",
       "      <td>-1</td>\n",
       "      <td>-1</td>\n",
       "      <td>-1</td>\n",
       "      <td>-1</td>\n",
       "    </tr>\n",
       "    <tr>\n",
       "      <th>153161</th>\n",
       "      <td>fffda9e8d6fafa9e</td>\n",
       "      <td>\" \\n\\n == Okinotorishima categories == \\n\\n I ...</td>\n",
       "      <td>-1</td>\n",
       "      <td>-1</td>\n",
       "      <td>-1</td>\n",
       "      <td>-1</td>\n",
       "      <td>-1</td>\n",
       "      <td>-1</td>\n",
       "    </tr>\n",
       "    <tr>\n",
       "      <th>153162</th>\n",
       "      <td>fffe8f1340a79fc2</td>\n",
       "      <td>\" \\n\\n == \"\"One of the founding nations of the...</td>\n",
       "      <td>-1</td>\n",
       "      <td>-1</td>\n",
       "      <td>-1</td>\n",
       "      <td>-1</td>\n",
       "      <td>-1</td>\n",
       "      <td>-1</td>\n",
       "    </tr>\n",
       "    <tr>\n",
       "      <th>153163</th>\n",
       "      <td>ffffce3fb183ee80</td>\n",
       "      <td>\" \\n :::Stop already. Your bullshit is not wel...</td>\n",
       "      <td>-1</td>\n",
       "      <td>-1</td>\n",
       "      <td>-1</td>\n",
       "      <td>-1</td>\n",
       "      <td>-1</td>\n",
       "      <td>-1</td>\n",
       "    </tr>\n",
       "  </tbody>\n",
       "</table>\n",
       "<p>89186 rows × 8 columns</p>\n",
       "</div>"
      ],
      "text/plain": [
       "                      id                                       comment_text  \\\n",
       "0       00001cee341fdb12  Yo bitch Ja Rule is more succesful then you'll...   \n",
       "1       0000247867823ef7  == From RfC == \\n\\n The title is fine as it is...   \n",
       "2       00013b17ad220c46  \" \\n\\n == Sources == \\n\\n * Zawe Ashton on Lap...   \n",
       "3       00017563c3f7919a  :If you have a look back at the source, the in...   \n",
       "4       00017695ad8997eb          I don't anonymously edit articles at all.   \n",
       "...                  ...                                                ...   \n",
       "153159  fffcd0960ee309b5  . \\n i totally agree, this stuff is nothing bu...   \n",
       "153160  fffd7a9a6eb32c16  == Throw from out field to home plate. == \\n\\n...   \n",
       "153161  fffda9e8d6fafa9e  \" \\n\\n == Okinotorishima categories == \\n\\n I ...   \n",
       "153162  fffe8f1340a79fc2  \" \\n\\n == \"\"One of the founding nations of the...   \n",
       "153163  ffffce3fb183ee80  \" \\n :::Stop already. Your bullshit is not wel...   \n",
       "\n",
       "        toxic  severe_toxic  obscene  threat  insult  identity_hate  \n",
       "0          -1            -1       -1      -1      -1             -1  \n",
       "1          -1            -1       -1      -1      -1             -1  \n",
       "2          -1            -1       -1      -1      -1             -1  \n",
       "3          -1            -1       -1      -1      -1             -1  \n",
       "4          -1            -1       -1      -1      -1             -1  \n",
       "...       ...           ...      ...     ...     ...            ...  \n",
       "153159     -1            -1       -1      -1      -1             -1  \n",
       "153160     -1            -1       -1      -1      -1             -1  \n",
       "153161     -1            -1       -1      -1      -1             -1  \n",
       "153162     -1            -1       -1      -1      -1             -1  \n",
       "153163     -1            -1       -1      -1      -1             -1  \n",
       "\n",
       "[89186 rows x 8 columns]"
      ]
     },
     "execution_count": 59,
     "metadata": {},
     "output_type": "execute_result"
    }
   ],
   "source": [
    "data_test[data_test['severe_toxic'] == -1]"
   ]
  },
  {
   "cell_type": "markdown",
   "metadata": {},
   "source": [
    "# Removing non meaningful data "
   ]
  },
  {
   "cell_type": "code",
   "execution_count": 60,
   "metadata": {},
   "outputs": [
    {
     "data": {
      "text/html": [
       "<div>\n",
       "<style scoped>\n",
       "    .dataframe tbody tr th:only-of-type {\n",
       "        vertical-align: middle;\n",
       "    }\n",
       "\n",
       "    .dataframe tbody tr th {\n",
       "        vertical-align: top;\n",
       "    }\n",
       "\n",
       "    .dataframe thead th {\n",
       "        text-align: right;\n",
       "    }\n",
       "</style>\n",
       "<table border=\"1\" class=\"dataframe\">\n",
       "  <thead>\n",
       "    <tr style=\"text-align: right;\">\n",
       "      <th></th>\n",
       "      <th>id</th>\n",
       "      <th>comment_text</th>\n",
       "      <th>toxic</th>\n",
       "      <th>severe_toxic</th>\n",
       "      <th>obscene</th>\n",
       "      <th>threat</th>\n",
       "      <th>insult</th>\n",
       "      <th>identity_hate</th>\n",
       "    </tr>\n",
       "  </thead>\n",
       "  <tbody>\n",
       "    <tr>\n",
       "      <th>5</th>\n",
       "      <td>0001ea8717f6de06</td>\n",
       "      <td>Thank you for understanding. I think very high...</td>\n",
       "      <td>0</td>\n",
       "      <td>0</td>\n",
       "      <td>0</td>\n",
       "      <td>0</td>\n",
       "      <td>0</td>\n",
       "      <td>0</td>\n",
       "    </tr>\n",
       "    <tr>\n",
       "      <th>7</th>\n",
       "      <td>000247e83dcc1211</td>\n",
       "      <td>:Dear god this site is horrible.</td>\n",
       "      <td>0</td>\n",
       "      <td>0</td>\n",
       "      <td>0</td>\n",
       "      <td>0</td>\n",
       "      <td>0</td>\n",
       "      <td>0</td>\n",
       "    </tr>\n",
       "    <tr>\n",
       "      <th>11</th>\n",
       "      <td>0002f87b16116a7f</td>\n",
       "      <td>\"::: Somebody will invariably try to add Relig...</td>\n",
       "      <td>0</td>\n",
       "      <td>0</td>\n",
       "      <td>0</td>\n",
       "      <td>0</td>\n",
       "      <td>0</td>\n",
       "      <td>0</td>\n",
       "    </tr>\n",
       "    <tr>\n",
       "      <th>13</th>\n",
       "      <td>0003e1cccfd5a40a</td>\n",
       "      <td>\" \\n\\n It says it right there that it IS a typ...</td>\n",
       "      <td>0</td>\n",
       "      <td>0</td>\n",
       "      <td>0</td>\n",
       "      <td>0</td>\n",
       "      <td>0</td>\n",
       "      <td>0</td>\n",
       "    </tr>\n",
       "    <tr>\n",
       "      <th>14</th>\n",
       "      <td>00059ace3e3e9a53</td>\n",
       "      <td>\" \\n\\n == Before adding a new product to the l...</td>\n",
       "      <td>0</td>\n",
       "      <td>0</td>\n",
       "      <td>0</td>\n",
       "      <td>0</td>\n",
       "      <td>0</td>\n",
       "      <td>0</td>\n",
       "    </tr>\n",
       "    <tr>\n",
       "      <th>...</th>\n",
       "      <td>...</td>\n",
       "      <td>...</td>\n",
       "      <td>...</td>\n",
       "      <td>...</td>\n",
       "      <td>...</td>\n",
       "      <td>...</td>\n",
       "      <td>...</td>\n",
       "      <td>...</td>\n",
       "    </tr>\n",
       "    <tr>\n",
       "      <th>153150</th>\n",
       "      <td>fff8f64043129fa2</td>\n",
       "      <td>:Jerome, I see you never got around to this…! ...</td>\n",
       "      <td>0</td>\n",
       "      <td>0</td>\n",
       "      <td>0</td>\n",
       "      <td>0</td>\n",
       "      <td>0</td>\n",
       "      <td>0</td>\n",
       "    </tr>\n",
       "    <tr>\n",
       "      <th>153151</th>\n",
       "      <td>fff9d70fe0722906</td>\n",
       "      <td>==Lucky bastard== \\n http://wikimediafoundatio...</td>\n",
       "      <td>0</td>\n",
       "      <td>0</td>\n",
       "      <td>0</td>\n",
       "      <td>0</td>\n",
       "      <td>0</td>\n",
       "      <td>0</td>\n",
       "    </tr>\n",
       "    <tr>\n",
       "      <th>153154</th>\n",
       "      <td>fffa8a11c4378854</td>\n",
       "      <td>==shame on you all!!!== \\n\\n You want to speak...</td>\n",
       "      <td>0</td>\n",
       "      <td>0</td>\n",
       "      <td>0</td>\n",
       "      <td>0</td>\n",
       "      <td>0</td>\n",
       "      <td>0</td>\n",
       "    </tr>\n",
       "    <tr>\n",
       "      <th>153155</th>\n",
       "      <td>fffac2a094c8e0e2</td>\n",
       "      <td>MEL GIBSON IS A NAZI BITCH WHO MAKES SHITTY MO...</td>\n",
       "      <td>1</td>\n",
       "      <td>0</td>\n",
       "      <td>1</td>\n",
       "      <td>0</td>\n",
       "      <td>1</td>\n",
       "      <td>0</td>\n",
       "    </tr>\n",
       "    <tr>\n",
       "      <th>153156</th>\n",
       "      <td>fffb5451268fb5ba</td>\n",
       "      <td>\" \\n\\n == Unicorn lair discovery == \\n\\n Suppo...</td>\n",
       "      <td>0</td>\n",
       "      <td>0</td>\n",
       "      <td>0</td>\n",
       "      <td>0</td>\n",
       "      <td>0</td>\n",
       "      <td>0</td>\n",
       "    </tr>\n",
       "  </tbody>\n",
       "</table>\n",
       "<p>63978 rows × 8 columns</p>\n",
       "</div>"
      ],
      "text/plain": [
       "                      id                                       comment_text  \\\n",
       "5       0001ea8717f6de06  Thank you for understanding. I think very high...   \n",
       "7       000247e83dcc1211                   :Dear god this site is horrible.   \n",
       "11      0002f87b16116a7f  \"::: Somebody will invariably try to add Relig...   \n",
       "13      0003e1cccfd5a40a  \" \\n\\n It says it right there that it IS a typ...   \n",
       "14      00059ace3e3e9a53  \" \\n\\n == Before adding a new product to the l...   \n",
       "...                  ...                                                ...   \n",
       "153150  fff8f64043129fa2  :Jerome, I see you never got around to this…! ...   \n",
       "153151  fff9d70fe0722906  ==Lucky bastard== \\n http://wikimediafoundatio...   \n",
       "153154  fffa8a11c4378854  ==shame on you all!!!== \\n\\n You want to speak...   \n",
       "153155  fffac2a094c8e0e2  MEL GIBSON IS A NAZI BITCH WHO MAKES SHITTY MO...   \n",
       "153156  fffb5451268fb5ba  \" \\n\\n == Unicorn lair discovery == \\n\\n Suppo...   \n",
       "\n",
       "        toxic  severe_toxic  obscene  threat  insult  identity_hate  \n",
       "5           0             0        0       0       0              0  \n",
       "7           0             0        0       0       0              0  \n",
       "11          0             0        0       0       0              0  \n",
       "13          0             0        0       0       0              0  \n",
       "14          0             0        0       0       0              0  \n",
       "...       ...           ...      ...     ...     ...            ...  \n",
       "153150      0             0        0       0       0              0  \n",
       "153151      0             0        0       0       0              0  \n",
       "153154      0             0        0       0       0              0  \n",
       "153155      1             0        1       0       1              0  \n",
       "153156      0             0        0       0       0              0  \n",
       "\n",
       "[63978 rows x 8 columns]"
      ]
     },
     "execution_count": 60,
     "metadata": {},
     "output_type": "execute_result"
    }
   ],
   "source": [
    "data_test = data_test[data_test.toxic != -1]\n",
    "data_test = data_test[data_test.severe_toxic != -1]\n",
    "data_test = data_test[data_test.obscene != -1]\n",
    "data_test = data_test[data_test.threat != -1]\n",
    "data_test = data_test[data_test.insult != -1]\n",
    "data_test = data_test[data_test.identity_hate != -1]\n",
    "\n",
    "data_test"
   ]
  },
  {
   "cell_type": "markdown",
   "metadata": {},
   "source": [
    "# converting data into toxic nontoxic"
   ]
  },
  {
   "cell_type": "code",
   "execution_count": 30,
   "metadata": {},
   "outputs": [],
   "source": [
    "toxic_list_test = []\n",
    "for i in range(len(data_test)):\n",
    "    if (data_test.iloc[i].loc['toxic'] == 1) or (data_test.iloc[i].loc['severe_toxic']== 1)  or (data_test.iloc[i].loc['obscene'] == 1) or data_test.iloc[i].loc['threat'] == 1 or data_test.iloc[i].loc['insult'] == 1 or data_test.iloc[i].loc['identity_hate'] == 1 :\n",
    "        toxic_list_test.append(1)\n",
    "    else :\n",
    "        toxic_list_test.append(0)\n",
    "toxic_test = np.array(toxic_list_test)\n",
    "tox_test = pd.Series(toxic_test)       "
   ]
  },
  {
   "cell_type": "code",
   "execution_count": 31,
   "metadata": {},
   "outputs": [],
   "source": [
    "data_test = data_test.reset_index()"
   ]
  },
  {
   "cell_type": "code",
   "execution_count": 32,
   "metadata": {},
   "outputs": [],
   "source": [
    "data_test = data_test.drop(['index','toxic','severe_toxic','obscene','threat','insult','identity_hate'],axis = 1 )"
   ]
  },
  {
   "cell_type": "code",
   "execution_count": 33,
   "metadata": {},
   "outputs": [
    {
     "data": {
      "text/html": [
       "<div>\n",
       "<style scoped>\n",
       "    .dataframe tbody tr th:only-of-type {\n",
       "        vertical-align: middle;\n",
       "    }\n",
       "\n",
       "    .dataframe tbody tr th {\n",
       "        vertical-align: top;\n",
       "    }\n",
       "\n",
       "    .dataframe thead th {\n",
       "        text-align: right;\n",
       "    }\n",
       "</style>\n",
       "<table border=\"1\" class=\"dataframe\">\n",
       "  <thead>\n",
       "    <tr style=\"text-align: right;\">\n",
       "      <th></th>\n",
       "      <th>id</th>\n",
       "      <th>comment_text</th>\n",
       "    </tr>\n",
       "  </thead>\n",
       "  <tbody>\n",
       "    <tr>\n",
       "      <th>0</th>\n",
       "      <td>0001ea8717f6de06</td>\n",
       "      <td>Thank you for understanding. I think very high...</td>\n",
       "    </tr>\n",
       "    <tr>\n",
       "      <th>1</th>\n",
       "      <td>000247e83dcc1211</td>\n",
       "      <td>:Dear god this site is horrible.</td>\n",
       "    </tr>\n",
       "    <tr>\n",
       "      <th>2</th>\n",
       "      <td>0002f87b16116a7f</td>\n",
       "      <td>\"::: Somebody will invariably try to add Relig...</td>\n",
       "    </tr>\n",
       "    <tr>\n",
       "      <th>3</th>\n",
       "      <td>0003e1cccfd5a40a</td>\n",
       "      <td>\" \\n\\n It says it right there that it IS a typ...</td>\n",
       "    </tr>\n",
       "    <tr>\n",
       "      <th>4</th>\n",
       "      <td>00059ace3e3e9a53</td>\n",
       "      <td>\" \\n\\n == Before adding a new product to the l...</td>\n",
       "    </tr>\n",
       "    <tr>\n",
       "      <th>...</th>\n",
       "      <td>...</td>\n",
       "      <td>...</td>\n",
       "    </tr>\n",
       "    <tr>\n",
       "      <th>63973</th>\n",
       "      <td>fff8f64043129fa2</td>\n",
       "      <td>:Jerome, I see you never got around to this…! ...</td>\n",
       "    </tr>\n",
       "    <tr>\n",
       "      <th>63974</th>\n",
       "      <td>fff9d70fe0722906</td>\n",
       "      <td>==Lucky bastard== \\n http://wikimediafoundatio...</td>\n",
       "    </tr>\n",
       "    <tr>\n",
       "      <th>63975</th>\n",
       "      <td>fffa8a11c4378854</td>\n",
       "      <td>==shame on you all!!!== \\n\\n You want to speak...</td>\n",
       "    </tr>\n",
       "    <tr>\n",
       "      <th>63976</th>\n",
       "      <td>fffac2a094c8e0e2</td>\n",
       "      <td>MEL GIBSON IS A NAZI BITCH WHO MAKES SHITTY MO...</td>\n",
       "    </tr>\n",
       "    <tr>\n",
       "      <th>63977</th>\n",
       "      <td>fffb5451268fb5ba</td>\n",
       "      <td>\" \\n\\n == Unicorn lair discovery == \\n\\n Suppo...</td>\n",
       "    </tr>\n",
       "  </tbody>\n",
       "</table>\n",
       "<p>63978 rows × 2 columns</p>\n",
       "</div>"
      ],
      "text/plain": [
       "                     id                                       comment_text\n",
       "0      0001ea8717f6de06  Thank you for understanding. I think very high...\n",
       "1      000247e83dcc1211                   :Dear god this site is horrible.\n",
       "2      0002f87b16116a7f  \"::: Somebody will invariably try to add Relig...\n",
       "3      0003e1cccfd5a40a  \" \\n\\n It says it right there that it IS a typ...\n",
       "4      00059ace3e3e9a53  \" \\n\\n == Before adding a new product to the l...\n",
       "...                 ...                                                ...\n",
       "63973  fff8f64043129fa2  :Jerome, I see you never got around to this…! ...\n",
       "63974  fff9d70fe0722906  ==Lucky bastard== \\n http://wikimediafoundatio...\n",
       "63975  fffa8a11c4378854  ==shame on you all!!!== \\n\\n You want to speak...\n",
       "63976  fffac2a094c8e0e2  MEL GIBSON IS A NAZI BITCH WHO MAKES SHITTY MO...\n",
       "63977  fffb5451268fb5ba  \" \\n\\n == Unicorn lair discovery == \\n\\n Suppo...\n",
       "\n",
       "[63978 rows x 2 columns]"
      ]
     },
     "execution_count": 33,
     "metadata": {},
     "output_type": "execute_result"
    }
   ],
   "source": [
    "data_test"
   ]
  },
  {
   "cell_type": "code",
   "execution_count": 34,
   "metadata": {},
   "outputs": [],
   "source": [
    "data_test = pd.concat([data_test,tox_test],axis = 1)\n"
   ]
  },
  {
   "cell_type": "code",
   "execution_count": 35,
   "metadata": {},
   "outputs": [
    {
     "data": {
      "text/html": [
       "<div>\n",
       "<style scoped>\n",
       "    .dataframe tbody tr th:only-of-type {\n",
       "        vertical-align: middle;\n",
       "    }\n",
       "\n",
       "    .dataframe tbody tr th {\n",
       "        vertical-align: top;\n",
       "    }\n",
       "\n",
       "    .dataframe thead th {\n",
       "        text-align: right;\n",
       "    }\n",
       "</style>\n",
       "<table border=\"1\" class=\"dataframe\">\n",
       "  <thead>\n",
       "    <tr style=\"text-align: right;\">\n",
       "      <th></th>\n",
       "      <th>id</th>\n",
       "      <th>comment_text</th>\n",
       "      <th>0</th>\n",
       "    </tr>\n",
       "  </thead>\n",
       "  <tbody>\n",
       "    <tr>\n",
       "      <th>0</th>\n",
       "      <td>0001ea8717f6de06</td>\n",
       "      <td>Thank you for understanding. I think very high...</td>\n",
       "      <td>0</td>\n",
       "    </tr>\n",
       "    <tr>\n",
       "      <th>1</th>\n",
       "      <td>000247e83dcc1211</td>\n",
       "      <td>:Dear god this site is horrible.</td>\n",
       "      <td>0</td>\n",
       "    </tr>\n",
       "    <tr>\n",
       "      <th>2</th>\n",
       "      <td>0002f87b16116a7f</td>\n",
       "      <td>\"::: Somebody will invariably try to add Relig...</td>\n",
       "      <td>0</td>\n",
       "    </tr>\n",
       "    <tr>\n",
       "      <th>3</th>\n",
       "      <td>0003e1cccfd5a40a</td>\n",
       "      <td>\" \\n\\n It says it right there that it IS a typ...</td>\n",
       "      <td>0</td>\n",
       "    </tr>\n",
       "    <tr>\n",
       "      <th>4</th>\n",
       "      <td>00059ace3e3e9a53</td>\n",
       "      <td>\" \\n\\n == Before adding a new product to the l...</td>\n",
       "      <td>0</td>\n",
       "    </tr>\n",
       "    <tr>\n",
       "      <th>...</th>\n",
       "      <td>...</td>\n",
       "      <td>...</td>\n",
       "      <td>...</td>\n",
       "    </tr>\n",
       "    <tr>\n",
       "      <th>63973</th>\n",
       "      <td>fff8f64043129fa2</td>\n",
       "      <td>:Jerome, I see you never got around to this…! ...</td>\n",
       "      <td>0</td>\n",
       "    </tr>\n",
       "    <tr>\n",
       "      <th>63974</th>\n",
       "      <td>fff9d70fe0722906</td>\n",
       "      <td>==Lucky bastard== \\n http://wikimediafoundatio...</td>\n",
       "      <td>0</td>\n",
       "    </tr>\n",
       "    <tr>\n",
       "      <th>63975</th>\n",
       "      <td>fffa8a11c4378854</td>\n",
       "      <td>==shame on you all!!!== \\n\\n You want to speak...</td>\n",
       "      <td>0</td>\n",
       "    </tr>\n",
       "    <tr>\n",
       "      <th>63976</th>\n",
       "      <td>fffac2a094c8e0e2</td>\n",
       "      <td>MEL GIBSON IS A NAZI BITCH WHO MAKES SHITTY MO...</td>\n",
       "      <td>1</td>\n",
       "    </tr>\n",
       "    <tr>\n",
       "      <th>63977</th>\n",
       "      <td>fffb5451268fb5ba</td>\n",
       "      <td>\" \\n\\n == Unicorn lair discovery == \\n\\n Suppo...</td>\n",
       "      <td>0</td>\n",
       "    </tr>\n",
       "  </tbody>\n",
       "</table>\n",
       "<p>63978 rows × 3 columns</p>\n",
       "</div>"
      ],
      "text/plain": [
       "                     id                                       comment_text  0\n",
       "0      0001ea8717f6de06  Thank you for understanding. I think very high...  0\n",
       "1      000247e83dcc1211                   :Dear god this site is horrible.  0\n",
       "2      0002f87b16116a7f  \"::: Somebody will invariably try to add Relig...  0\n",
       "3      0003e1cccfd5a40a  \" \\n\\n It says it right there that it IS a typ...  0\n",
       "4      00059ace3e3e9a53  \" \\n\\n == Before adding a new product to the l...  0\n",
       "...                 ...                                                ... ..\n",
       "63973  fff8f64043129fa2  :Jerome, I see you never got around to this…! ...  0\n",
       "63974  fff9d70fe0722906  ==Lucky bastard== \\n http://wikimediafoundatio...  0\n",
       "63975  fffa8a11c4378854  ==shame on you all!!!== \\n\\n You want to speak...  0\n",
       "63976  fffac2a094c8e0e2  MEL GIBSON IS A NAZI BITCH WHO MAKES SHITTY MO...  1\n",
       "63977  fffb5451268fb5ba  \" \\n\\n == Unicorn lair discovery == \\n\\n Suppo...  0\n",
       "\n",
       "[63978 rows x 3 columns]"
      ]
     },
     "execution_count": 35,
     "metadata": {},
     "output_type": "execute_result"
    }
   ],
   "source": [
    "data_test"
   ]
  },
  {
   "cell_type": "code",
   "execution_count": 26,
   "metadata": {},
   "outputs": [],
   "source": [
    "export = data_test.to_csv (r'ready_data_test.csv⁩', index = None, header=True) #Don't forget to add '.csv' at the end of the path\n"
   ]
  },
  {
   "cell_type": "markdown",
   "metadata": {},
   "source": [
    " Now we have data test ready for preprocessing"
   ]
  },
  {
   "cell_type": "markdown",
   "metadata": {},
   "source": [
    "# Preprocessing"
   ]
  },
  {
   "cell_type": "code",
   "execution_count": 50,
   "metadata": {},
   "outputs": [],
   "source": [
    "# lowering\n",
    "\n",
    "data_test['comment_text'] = data_test['comment_text'].str.lower()\n",
    "\n",
    "# Remove numbers \n",
    "\n",
    "data_test['comment_text'] = data_test['comment_text'].str.replace(r'\\d+','')\n",
    "\n",
    "#remove puctuation\n",
    "\n",
    "\n",
    "data_test['comment_text'] = data_test['comment_text'].apply(remove_punctuations)\n",
    "\n",
    "data_test['comment_text'] = data_test['comment_text'].str.replace('\\n','')\n",
    "\n",
    "\n",
    "# Removing non english words\n",
    "\n",
    "data_test['comment_text'] = data_test['comment_text'].str.replace(\"कपल दव\",'')\n",
    "data_test['comment_text'] = data_test['comment_text'].str.replace(\"कपल दव\",'')\n",
    "data_test['comment_text'] = data_test['comment_text'].str.replace(\"سلام\",'')\n",
    "data_test['comment_text'] = data_test['comment_text'].str.replace(\"ال عليكم\",'')\n",
    "data_test['comment_text'] = data_test['comment_text'].str.replace(\"גאללה\",'')\n",
    "data_test['comment_text'] = data_test['comment_text'].str.replace(\"עובדיה\",'')\n",
    "data_test['comment_text'] = data_test['comment_text'].str.replace(\"хуй\",'')\n",
    "data_test['comment_text'] = data_test['comment_text'].str.replace(\"хорошее утро\",'')\n",
    "data_test['comment_text'] = data_test['comment_text'].str.replace(\"ты нацистская сволочь и арабская подстилка иди на  пидарас сраный\",'')\n",
    "data_test['comment_text'] = data_test['comment_text'].str.replace(\"июльa\",'')\n",
    "data_test['comment_text'] = data_test['comment_text'].str.replace(\"вуистина воскресе\",'')\n",
    "data_test['comment_text'] = data_test['comment_text'].str.replace(\"σ\",'')\n",
    "data_test['comment_text'] = data_test['comment_text'].str.replace(\"μōōšε\",'')\n",
    "data_test['comment_text'] = data_test['comment_text'].str.replace(\"κεκρωψ\",'')\n",
    "data_test['comment_text'] = data_test['comment_text'].str.replace(\"α ρε γιάννη\",'')\n",
    "data_test['comment_text'] = data_test['comment_text'].str.replace(\"\\xa0\",'')\n",
    "data_test['comment_text'] = data_test['comment_text'].str.replace(\"żydokomuna\",'')\n",
    "data_test['comment_text'] = data_test['comment_text'].str.replace(\"żem\",'')\n",
    "data_test['comment_text'] = data_test['comment_text'].str.replace(\"þorgerðr\",'')\n",
    "data_test['comment_text'] = data_test['comment_text'].str.replace(\"hölgabrúðr\",'')\n",
    "data_test['comment_text'] = data_test['comment_text'].str.replace(\"\\ufeffsensual\",'')\n",
    "data_test['comment_text'] = data_test['comment_text'].str.replace(\"这是什么意思？\",'')\n",
    "data_test['comment_text'] = data_test['comment_text'].str.replace(\"笑う犬の冒険\",'')\n",
    "\n",
    "\n",
    "data_test['comment_text'] = data_test['comment_text'].apply(clean_non_english)\n",
    "\n",
    "\n",
    "# Remove white spaces\n",
    "\n",
    "data_test['comment_text'] = data_test['comment_text'].apply(remove_white)\n",
    "\n",
    "data_test['comment_text'] = data_test['comment_text'].str.replace(\"（ \",'')\n",
    "data_test['comment_text'] = data_test['comment_text'].str.replace(\"《 \",'')\n",
    "data_test['comment_text'] = data_test['comment_text'].str.replace(\"➥\",'')\n",
    "data_test['comment_text'] = data_test['comment_text'].str.replace(\"「 」\",'')\n",
    "\n",
    "# Stemming\n",
    "\n",
    "\n",
    "data_test['comment_text'] = data_test['comment_text'].apply(stemSentence)"
   ]
  },
  {
   "cell_type": "code",
   "execution_count": 58,
   "metadata": {},
   "outputs": [],
   "source": [
    "export = data_test.to_excel (r'ready_data_test_.xlsx', index = None, header=True) #Don't forget to add '.csv' at the end of the path\n"
   ]
  },
  {
   "cell_type": "code",
   "execution_count": 36,
   "metadata": {},
   "outputs": [],
   "source": [
    "\n",
    "X_test = vect.transform(data_test.comment_text)\n"
   ]
  },
  {
   "cell_type": "code",
   "execution_count": 37,
   "metadata": {},
   "outputs": [],
   "source": [
    "y_test = data_test[0].values\n"
   ]
  },
  {
   "cell_type": "markdown",
   "metadata": {},
   "source": [
    "# predicting\n"
   ]
  },
  {
   "cell_type": "code",
   "execution_count": 38,
   "metadata": {},
   "outputs": [],
   "source": [
    "y_pred = clf.predict(X_test)"
   ]
  },
  {
   "cell_type": "code",
   "execution_count": 39,
   "metadata": {},
   "outputs": [],
   "source": [
    "from sklearn.metrics import accuracy_score\n",
    "acc = accuracy_score(y_pred, y_test)"
   ]
  },
  {
   "cell_type": "code",
   "execution_count": 40,
   "metadata": {},
   "outputs": [
    {
     "data": {
      "text/plain": [
       "0.9281159148457282"
      ]
     },
     "execution_count": 40,
     "metadata": {},
     "output_type": "execute_result"
    }
   ],
   "source": [
    "acc"
   ]
  },
  {
   "cell_type": "code",
   "execution_count": 62,
   "metadata": {},
   "outputs": [],
   "source": []
  },
  {
   "cell_type": "markdown",
   "metadata": {},
   "source": [
    "(Test score)"
   ]
  },
  {
   "cell_type": "code",
   "execution_count": 63,
   "metadata": {},
   "outputs": [
    {
     "data": {
      "text/plain": [
       "0.9159242239519835"
      ]
     },
     "execution_count": 63,
     "metadata": {},
     "output_type": "execute_result"
    }
   ],
   "source": [
    "acc"
   ]
  },
  {
   "cell_type": "markdown",
   "metadata": {},
   "source": [
    "# Using SVM "
   ]
  },
  {
   "cell_type": "code",
   "execution_count": 41,
   "metadata": {},
   "outputs": [
    {
     "name": "stderr",
     "output_type": "stream",
     "text": [
      "/usr/local/lib/python3.7/site-packages/sklearn/svm/base.py:193: FutureWarning: The default value of gamma will change from 'auto' to 'scale' in version 0.22 to account better for unscaled features. Set gamma explicitly to 'auto' or 'scale' to avoid this warning.\n",
      "  \"avoid this warning.\", FutureWarning)\n"
     ]
    },
    {
     "data": {
      "text/plain": [
       "SVC(C=1.0, cache_size=200, class_weight=None, coef0=0.0,\n",
       "    decision_function_shape='ovr', degree=3, gamma='auto_deprecated',\n",
       "    kernel='rbf', max_iter=-1, probability=False, random_state=None,\n",
       "    shrinking=True, tol=0.001, verbose=False)"
      ]
     },
     "execution_count": 41,
     "metadata": {},
     "output_type": "execute_result"
    }
   ],
   "source": [
    "from sklearn import svm\n",
    "\n",
    "clf_v = svm.SVC()\n",
    "clf_v.fit(X,y)\n"
   ]
  },
  {
   "cell_type": "code",
   "execution_count": 42,
   "metadata": {},
   "outputs": [],
   "source": [
    "y_pred2 = clf.predict(X_test)"
   ]
  },
  {
   "cell_type": "code",
   "execution_count": null,
   "metadata": {},
   "outputs": [],
   "source": [
    "from sklearn.metrics import accuracy_score\n",
    "acc2 = accuracy_score(y_pred2, y_test)"
   ]
  },
  {
   "cell_type": "code",
   "execution_count": null,
   "metadata": {},
   "outputs": [],
   "source": [
    "acc2"
   ]
  },
  {
   "cell_type": "markdown",
   "metadata": {},
   "source": [
    "# Using Naive Baye's"
   ]
  },
  {
   "cell_type": "code",
   "execution_count": null,
   "metadata": {},
   "outputs": [],
   "source": [
    "from sklearn.naive_bayes import GaussianNB\n",
    "gnb_ = GaussianNB()\n",
    "gnb_.fit(X, y)"
   ]
  },
  {
   "cell_type": "code",
   "execution_count": null,
   "metadata": {},
   "outputs": [],
   "source": []
  }
 ],
 "metadata": {
  "kernelspec": {
   "display_name": "Python 3",
   "language": "python",
   "name": "python3"
  },
  "language_info": {
   "codemirror_mode": {
    "name": "ipython",
    "version": 3
   },
   "file_extension": ".py",
   "mimetype": "text/x-python",
   "name": "python",
   "nbconvert_exporter": "python",
   "pygments_lexer": "ipython3",
   "version": "3.7.5"
  }
 },
 "nbformat": 4,
 "nbformat_minor": 2
}
